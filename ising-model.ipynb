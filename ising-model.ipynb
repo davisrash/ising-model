{
 "cells": [
  {
   "cell_type": "code",
   "execution_count": 7,
   "metadata": {},
   "outputs": [],
   "source": [
    "from qiskit import *\n",
    "from qiskit_ibm_provider import IBMProvider\n",
    "# import qiskit_ibm_provider.jupyter"
   ]
  },
  {
   "cell_type": "code",
   "execution_count": 8,
   "metadata": {},
   "outputs": [
    {
     "name": "stderr",
     "output_type": "stream",
     "text": [
      "UsageError: Line magic function `%ibm_quantum_dashboard` not found.\n"
     ]
    }
   ],
   "source": [
    "%ibm_quantum_dashboard"
   ]
  },
  {
   "cell_type": "code",
   "execution_count": 10,
   "metadata": {},
   "outputs": [
    {
     "ename": "AccountNotFoundError",
     "evalue": "'No default ibm_quantum account saved.'",
     "output_type": "error",
     "traceback": [
      "\u001b[1;31m---------------------------------------------------------------------------\u001b[0m",
      "\u001b[1;31mAccountNotFoundError\u001b[0m                      Traceback (most recent call last)",
      "\u001b[1;32mc:\\Users\\davis\\OneDrive - Colorado School of Mines\\1 Fall 2023\\PHGN 519 Fundamentals of Quantum Information\\project-1\\ising-model\\ising-model.ipynb Cell 3\u001b[0m line \u001b[0;36m1\n\u001b[1;32m----> <a href='vscode-notebook-cell:/c%3A/Users/davis/OneDrive%20-%20Colorado%20School%20of%20Mines/1%20Fall%202023/PHGN%20519%20Fundamentals%20of%20Quantum%20Information/project-1/ising-model/ising-model.ipynb#W3sZmlsZQ%3D%3D?line=0'>1</a>\u001b[0m provider \u001b[39m=\u001b[39m IBMProvider()\n",
      "File \u001b[1;32mc:\\Users\\davis\\OneDrive - Colorado School of Mines\\1 Fall 2023\\PHGN 519 Fundamentals of Quantum Information\\project-1\\ising-model\\.venv\\Lib\\site-packages\\qiskit_ibm_provider\\ibm_provider.py:162\u001b[0m, in \u001b[0;36mIBMProvider.__init__\u001b[1;34m(self, token, url, name, instance, proxies, verify)\u001b[0m\n\u001b[0;32m    139\u001b[0m \u001b[39m\u001b[39m\u001b[39m\"\"\"IBMProvider constructor\u001b[39;00m\n\u001b[0;32m    140\u001b[0m \n\u001b[0;32m    141\u001b[0m \u001b[39mArgs:\u001b[39;00m\n\u001b[1;32m   (...)\u001b[0m\n\u001b[0;32m    159\u001b[0m \n\u001b[0;32m    160\u001b[0m \u001b[39m\"\"\"\u001b[39;00m\n\u001b[0;32m    161\u001b[0m \u001b[39msuper\u001b[39m()\u001b[39m.\u001b[39m\u001b[39m__init__\u001b[39m()\n\u001b[1;32m--> 162\u001b[0m \u001b[39mself\u001b[39m\u001b[39m.\u001b[39m_account \u001b[39m=\u001b[39m \u001b[39mself\u001b[39;49m\u001b[39m.\u001b[39;49m_discover_account(\n\u001b[0;32m    163\u001b[0m     token\u001b[39m=\u001b[39;49mtoken,\n\u001b[0;32m    164\u001b[0m     url\u001b[39m=\u001b[39;49murl,\n\u001b[0;32m    165\u001b[0m     instance\u001b[39m=\u001b[39;49minstance,\n\u001b[0;32m    166\u001b[0m     name\u001b[39m=\u001b[39;49mname,\n\u001b[0;32m    167\u001b[0m     proxies\u001b[39m=\u001b[39;49mProxyConfiguration(\u001b[39m*\u001b[39;49m\u001b[39m*\u001b[39;49mproxies) \u001b[39mif\u001b[39;49;00m proxies \u001b[39melse\u001b[39;49;00m \u001b[39mNone\u001b[39;49;00m,\n\u001b[0;32m    168\u001b[0m     verify\u001b[39m=\u001b[39;49mverify,\n\u001b[0;32m    169\u001b[0m )\n\u001b[0;32m    171\u001b[0m \u001b[39mself\u001b[39m\u001b[39m.\u001b[39m_client_params \u001b[39m=\u001b[39m ClientParameters(\n\u001b[0;32m    172\u001b[0m     token\u001b[39m=\u001b[39m\u001b[39mself\u001b[39m\u001b[39m.\u001b[39m_account\u001b[39m.\u001b[39mtoken,\n\u001b[0;32m    173\u001b[0m     url\u001b[39m=\u001b[39m\u001b[39mself\u001b[39m\u001b[39m.\u001b[39m_account\u001b[39m.\u001b[39murl,\n\u001b[1;32m   (...)\u001b[0m\n\u001b[0;32m    176\u001b[0m     verify\u001b[39m=\u001b[39m\u001b[39mself\u001b[39m\u001b[39m.\u001b[39m_account\u001b[39m.\u001b[39mverify,\n\u001b[0;32m    177\u001b[0m )\n\u001b[0;32m    178\u001b[0m \u001b[39mself\u001b[39m\u001b[39m.\u001b[39m_auth_client \u001b[39m=\u001b[39m \u001b[39mself\u001b[39m\u001b[39m.\u001b[39m_authenticate_ibm_quantum_account(\u001b[39mself\u001b[39m\u001b[39m.\u001b[39m_client_params)\n",
      "File \u001b[1;32mc:\\Users\\davis\\OneDrive - Colorado School of Mines\\1 Fall 2023\\PHGN 519 Fundamentals of Quantum Information\\project-1\\ising-model\\.venv\\Lib\\site-packages\\qiskit_ibm_provider\\ibm_provider.py:221\u001b[0m, in \u001b[0;36mIBMProvider._discover_account\u001b[1;34m(token, url, instance, name, proxies, verify)\u001b[0m\n\u001b[0;32m    217\u001b[0m         \u001b[39mif\u001b[39;00m url:\n\u001b[0;32m    218\u001b[0m             logger\u001b[39m.\u001b[39mwarning(\n\u001b[0;32m    219\u001b[0m                 \u001b[39m\"\u001b[39m\u001b[39mLoading default ibm_quantum account. Input \u001b[39m\u001b[39m'\u001b[39m\u001b[39murl\u001b[39m\u001b[39m'\u001b[39m\u001b[39m is ignored.\u001b[39m\u001b[39m\"\u001b[39m\n\u001b[0;32m    220\u001b[0m             )\n\u001b[1;32m--> 221\u001b[0m         account \u001b[39m=\u001b[39m AccountManager\u001b[39m.\u001b[39;49mget(channel\u001b[39m=\u001b[39;49m\u001b[39m\"\u001b[39;49m\u001b[39mibm_quantum\u001b[39;49m\u001b[39m\"\u001b[39;49m)\n\u001b[0;32m    223\u001b[0m \u001b[39mif\u001b[39;00m account \u001b[39mis\u001b[39;00m \u001b[39mNone\u001b[39;00m:\n\u001b[0;32m    224\u001b[0m     account \u001b[39m=\u001b[39m AccountManager\u001b[39m.\u001b[39mget()\n",
      "File \u001b[1;32mc:\\Users\\davis\\OneDrive - Colorado School of Mines\\1 Fall 2023\\PHGN 519 Fundamentals of Quantum Information\\project-1\\ising-model\\.venv\\Lib\\site-packages\\qiskit_ibm_provider\\accounts\\management.py:154\u001b[0m, in \u001b[0;36mAccountManager.get\u001b[1;34m(cls, name, channel)\u001b[0m\n\u001b[0;32m    149\u001b[0m     saved_account \u001b[39m=\u001b[39m read_config(\n\u001b[0;32m    150\u001b[0m         filename\u001b[39m=\u001b[39m\u001b[39mcls\u001b[39m\u001b[39m.\u001b[39m_default_account_config_json_file,\n\u001b[0;32m    151\u001b[0m         name\u001b[39m=\u001b[39m\u001b[39mcls\u001b[39m\u001b[39m.\u001b[39m_default_account_name_ibm_quantum,\n\u001b[0;32m    152\u001b[0m     )\n\u001b[0;32m    153\u001b[0m     \u001b[39mif\u001b[39;00m saved_account \u001b[39mis\u001b[39;00m \u001b[39mNone\u001b[39;00m:\n\u001b[1;32m--> 154\u001b[0m         \u001b[39mraise\u001b[39;00m AccountNotFoundError(\u001b[39mf\u001b[39m\u001b[39m\"\u001b[39m\u001b[39mNo default \u001b[39m\u001b[39m{\u001b[39;00mchannel\u001b[39m}\u001b[39;00m\u001b[39m account saved.\u001b[39m\u001b[39m\"\u001b[39m)\n\u001b[0;32m    155\u001b[0m     \u001b[39mreturn\u001b[39;00m Account\u001b[39m.\u001b[39mfrom_saved_format(saved_account)\n\u001b[0;32m    157\u001b[0m all_config \u001b[39m=\u001b[39m read_config(filename\u001b[39m=\u001b[39m\u001b[39mcls\u001b[39m\u001b[39m.\u001b[39m_default_account_config_json_file)\n",
      "\u001b[1;31mAccountNotFoundError\u001b[0m: 'No default ibm_quantum account saved.'"
     ]
    }
   ],
   "source": [
    "provider = IBMProvider()"
   ]
  },
  {
   "cell_type": "code",
   "execution_count": 11,
   "metadata": {},
   "outputs": [
    {
     "ename": "NameError",
     "evalue": "name 'provider' is not defined",
     "output_type": "error",
     "traceback": [
      "\u001b[1;31m---------------------------------------------------------------------------\u001b[0m",
      "\u001b[1;31mNameError\u001b[0m                                 Traceback (most recent call last)",
      "\u001b[1;32mc:\\Users\\davis\\OneDrive - Colorado School of Mines\\1 Fall 2023\\PHGN 519 Fundamentals of Quantum Information\\project-1\\ising-model\\ising-model.ipynb Cell 4\u001b[0m line \u001b[0;36m4\n\u001b[0;32m      <a href='vscode-notebook-cell:/c%3A/Users/davis/OneDrive%20-%20Colorado%20School%20of%20Mines/1%20Fall%202023/PHGN%20519%20Fundamentals%20of%20Quantum%20Information/project-1/ising-model/ising-model.ipynb#W2sZmlsZQ%3D%3D?line=0'>1</a>\u001b[0m \u001b[39mfrom\u001b[39;00m \u001b[39mqiskit_ibm_provider\u001b[39;00m \u001b[39mimport\u001b[39;00m least_busy\n\u001b[0;32m      <a href='vscode-notebook-cell:/c%3A/Users/davis/OneDrive%20-%20Colorado%20School%20of%20Mines/1%20Fall%202023/PHGN%20519%20Fundamentals%20of%20Quantum%20Information/project-1/ising-model/ising-model.ipynb#W2sZmlsZQ%3D%3D?line=2'>3</a>\u001b[0m backend \u001b[39m=\u001b[39m least_busy(\n\u001b[1;32m----> <a href='vscode-notebook-cell:/c%3A/Users/davis/OneDrive%20-%20Colorado%20School%20of%20Mines/1%20Fall%202023/PHGN%20519%20Fundamentals%20of%20Quantum%20Information/project-1/ising-model/ising-model.ipynb#W2sZmlsZQ%3D%3D?line=3'>4</a>\u001b[0m     provider\u001b[39m.\u001b[39mbackends(\n\u001b[0;32m      <a href='vscode-notebook-cell:/c%3A/Users/davis/OneDrive%20-%20Colorado%20School%20of%20Mines/1%20Fall%202023/PHGN%20519%20Fundamentals%20of%20Quantum%20Information/project-1/ising-model/ising-model.ipynb#W2sZmlsZQ%3D%3D?line=4'>5</a>\u001b[0m         simulator\u001b[39m=\u001b[39m\u001b[39mFalse\u001b[39;00m, filters\u001b[39m=\u001b[39m\u001b[39mlambda\u001b[39;00m b: b\u001b[39m.\u001b[39mconfiguration()\u001b[39m.\u001b[39mn_qubits \u001b[39m>\u001b[39m\u001b[39m=\u001b[39m \u001b[39m5\u001b[39m\n\u001b[0;32m      <a href='vscode-notebook-cell:/c%3A/Users/davis/OneDrive%20-%20Colorado%20School%20of%20Mines/1%20Fall%202023/PHGN%20519%20Fundamentals%20of%20Quantum%20Information/project-1/ising-model/ising-model.ipynb#W2sZmlsZQ%3D%3D?line=5'>6</a>\u001b[0m     )\n\u001b[0;32m      <a href='vscode-notebook-cell:/c%3A/Users/davis/OneDrive%20-%20Colorado%20School%20of%20Mines/1%20Fall%202023/PHGN%20519%20Fundamentals%20of%20Quantum%20Information/project-1/ising-model/ising-model.ipynb#W2sZmlsZQ%3D%3D?line=6'>7</a>\u001b[0m )\n\u001b[0;32m      <a href='vscode-notebook-cell:/c%3A/Users/davis/OneDrive%20-%20Colorado%20School%20of%20Mines/1%20Fall%202023/PHGN%20519%20Fundamentals%20of%20Quantum%20Information/project-1/ising-model/ising-model.ipynb#W2sZmlsZQ%3D%3D?line=8'>9</a>\u001b[0m qc\u001b[39m.\u001b[39mQuantumCircuit(\u001b[39m2\u001b[39m, \u001b[39m2\u001b[39m)\n\u001b[0;32m     <a href='vscode-notebook-cell:/c%3A/Users/davis/OneDrive%20-%20Colorado%20School%20of%20Mines/1%20Fall%202023/PHGN%20519%20Fundamentals%20of%20Quantum%20Information/project-1/ising-model/ising-model.ipynb#W2sZmlsZQ%3D%3D?line=9'>10</a>\u001b[0m qc\u001b[39m.\u001b[39mh(\u001b[39m0\u001b[39m)\n",
      "\u001b[1;31mNameError\u001b[0m: name 'provider' is not defined"
     ]
    }
   ],
   "source": [
    "from qiskit_ibm_provider import least_busy\n",
    "\n",
    "backend = least_busy(\n",
    "    provider.backends(\n",
    "        simulator=False, filters=lambda b: b.configuration().n_qubits >= 5\n",
    "    )\n",
    ")\n",
    "\n",
    "qc.QuantumCircuit(2, 2)\n",
    "qc.h(0)\n",
    "qc.cx(0, 1)\n",
    "qc.measure([0, 1], [0, 1])\n",
    "\n",
    "mapped_circuit = transpile(qc, backend=backend)\n",
    "job = backend.run(mapped_circuit, shots=1024)\n"
   ]
  }
 ],
 "metadata": {
  "kernelspec": {
   "display_name": "Python 3",
   "language": "python",
   "name": "python3"
  },
  "language_info": {
   "codemirror_mode": {
    "name": "ipython",
    "version": 3
   },
   "file_extension": ".py",
   "mimetype": "text/x-python",
   "name": "python",
   "nbconvert_exporter": "python",
   "pygments_lexer": "ipython3",
   "version": "3.11.5"
  },
  "orig_nbformat": 4
 },
 "nbformat": 4,
 "nbformat_minor": 2
}
