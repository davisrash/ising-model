{
 "cells": [
  {
   "cell_type": "code",
   "execution_count": 29,
   "metadata": {},
   "outputs": [],
   "source": [
    "import numpy as np\n",
    "\n",
    "from qiskit import QuantumCircuit"
   ]
  },
  {
   "cell_type": "code",
   "execution_count": 30,
   "metadata": {},
   "outputs": [],
   "source": [
    "# TODO: Cleanup and move upward\n",
    "\n",
    "from qiskit import execute\n",
    "from qiskit.providers.fake_provider import FakeManilaV2\n",
    "from qiskit import transpile\n",
    "from qiskit.compiler import transpile\n",
    "from qiskit.tools.monitor import job_monitor\n",
    "import matplotlib.pyplot as plt\n",
    "from qiskit.tools.jupyter import *\n",
    "from qiskit.visualization import *\n",
    "from qiskit.quantum_info import *\n",
    "from qiskit.circuit.library import HGate, RXGate"
   ]
  },
  {
   "cell_type": "code",
   "execution_count": 31,
   "metadata": {},
   "outputs": [],
   "source": [
    "# TODO: Rename all lambdas to lambda_ to avoid conflict with Python keyword\n",
    "#       Alternatively use letter h\n",
    "#       Turn lambda (also n?) into ndarrays\n",
    "\n",
    "n = 4\n",
    "lambd = 1.2"
   ]
  },
  {
   "cell_type": "code",
   "execution_count": 32,
   "metadata": {},
   "outputs": [
    {
     "data": {
      "image/png": "[encoded data removed]",
      "text/plain": [
       "<Figure size 287.294x200.667 with 1 Axes>"
      ]
     },
     "execution_count": 32,
     "metadata": {},
     "output_type": "execute_result"
    }
   ],
   "source": [
    "fswap_qc = QuantumCircuit(2)\n",
    "fswap_qc.swap(0, 1)\n",
    "fswap_qc.cz(0, 1)\n",
    "\n",
    "FSwapGate = fswap_qc.to_gate()\n",
    "\n",
    "fswap_qc.draw(output=\"mpl\")"
   ]
  },
  {
   "cell_type": "code",
   "execution_count": 33,
   "metadata": {},
   "outputs": [],
   "source": [
    "# TODO: Is theta a good name? Find out if this angle is called anything in particular\n",
    "\n",
    "def theta(n: int, k: int, lambda_: float) -> float:\n",
    "    theta = 2 * np.pi * k / n\n",
    "    x = np.cos(theta)\n",
    "    y = np.sin(theta)\n",
    "\n",
    "    return np.arccos((lambda_ - x) / np.sqrt((lambda_ - x) ** 2 + y**2))"
   ]
  },
  {
   "cell_type": "code",
   "execution_count": 34,
   "metadata": {},
   "outputs": [
    {
     "data": {
      "image/png": "[encoded data removed]",
      "text/plain": [
       "<Figure size 538.128x200.667 with 1 Axes>"
      ]
     },
     "execution_count": 34,
     "metadata": {},
     "output_type": "execute_result"
    }
   ],
   "source": [
    "# TODO: Name better\n",
    "#       Make parameterized gate?\n",
    "\n",
    "qc = QuantumCircuit(2)\n",
    "qc.x(1)\n",
    "qc.cx(1, 0)\n",
    "qc.crx(theta(n, 1, lambd), 0, 1)  # TODO: k hardcoded to 1. NOT GENERAL, NEED FUNCTION\n",
    "qc.cx(1, 0)\n",
    "qc.x(1)\n",
    "\n",
    "BogoliubovGate = qc.to_instruction()\n",
    "\n",
    "qc.draw(output=\"mpl\")"
   ]
  },
  {
   "cell_type": "code",
   "execution_count": 35,
   "metadata": {},
   "outputs": [
    {
     "name": "stdout",
     "output_type": "stream",
     "text": [
      "Job Status: job has successfully run\n",
      "[0.8857421875]\n"
     ]
    }
   ],
   "source": [
    "def thetak(k, lamb):\n",
    "    num = lamb - np.cos(2 * np.pi * k / n)\n",
    "    denom = np.sqrt(\n",
    "        (lamb - np.cos(2 * np.pi * k / n)) ** 2 + np.sin(2 * np.pi * k / n) ** 2\n",
    "    )\n",
    "    theta = np.arccos(num / denom)\n",
    "    return theta\n",
    "\n",
    "\n",
    "# Create functions based on the decomposition included in appendix of Ising paper\n",
    "def bog(qcirc, qubits, theta):\n",
    "    qcirc.x(qubits[1])\n",
    "    qcirc.cx(qubits[1], qubits[0])\n",
    "    qcirc.append(RXGate(theta=theta).control(), qubits)\n",
    "    qcirc.cx(qubits[1], qubits[0])\n",
    "    qcirc.x(qubits[1])\n",
    "    qcirc.barrier()\n",
    "\n",
    "\n",
    "def fourier(qcirc, qubits, phase):\n",
    "    qcirc.rz(phase, qubits[0])\n",
    "    qcirc.cx(qubits[0], qubits[1])\n",
    "    qcirc.append(HGate().control(), reversed(qubits))\n",
    "    qcirc.cx(qubits[0], qubits[1])\n",
    "    qcirc.cz(qubits[0], qubits[1])\n",
    "    qcirc.barrier()\n",
    "\n",
    "\n",
    "def fermionicSwap(circuit, qubits):\n",
    "    circuit.swap(qubits[0], qubits[1])\n",
    "    circuit.cz(qubits[0], qubits[1])\n",
    "\n",
    "\n",
    "def digit_sum(n):\n",
    "    num_str = str(n)\n",
    "    sum = 0\n",
    "    for i in range(0, len(num_str)):\n",
    "        sum += int(num_str[i])\n",
    "    return sum\n",
    "\n",
    "\n",
    "def applyDisentaglementGates(qcirc, lamb):\n",
    "    bog(qcirc, qcirc.qubits[0:2], thetak(1.0, lamb))\n",
    "    fourier(qcirc, qcirc.qubits[0:2], 2 * np.pi / n)\n",
    "    fourier(qcirc, qcirc.qubits[2:4], 0.0)\n",
    "    # fermionicSwap(qc, qc.qubits[1:3])\n",
    "    fourier(qcirc, qcirc.qubits[0:2], 0.0)\n",
    "    fourier(qcirc, qcirc.qubits[2:4], 0.0)\n",
    "    # fermionicSwap(qc, qc.qubits[1:3])\n",
    "\n",
    "\n",
    "def executeJobAndGetMagnetization(qcirc, backend, shots, max_credits):\n",
    "    # magnetization\n",
    "    mag = []\n",
    "    job = execute(qcirc, backend=backend, shots=shots, max_credits=max_credits)\n",
    "    job_monitor(job)\n",
    "    result = job.result()\n",
    "    counts = result.get_counts(qcirc)\n",
    "    ##while not '0000' in counts:\n",
    "    #    job = execute(qc, backend=backend, shots=shots, max_credits=max_credits)\n",
    "    #    job_monitor(job)\n",
    "    #    result = job.result()\n",
    "    #    counts = result.get_counts(qc)\n",
    "    # Check what ground state is based on lambda\n",
    "\n",
    "    r1 = list(counts.keys())\n",
    "    r2 = list(counts.values())\n",
    "    M = 0\n",
    "    for j in range(0, len(r1)):\n",
    "        M = M + (4 - 2 * digit_sum(r1[j])) * r2[j] / shots\n",
    "    # print(\"$\\lambda$: \",lam,\", $<\\sigma_{z}>$: \",M/4)\n",
    "    mag.append(M / 4)\n",
    "    return mag\n",
    "\n",
    "\n",
    "def ground_state(lamb, backend_name):  # backend is now an imput, so we can plot\n",
    "    # different ones easily - Bruna\n",
    "    # Create a quantum Circuit with 4 quantum bits and 4 classical\n",
    "    qcirc = QuantumCircuit(4, 4)\n",
    "    # Set correct ground state if lambda < 1\n",
    "    if lamb < 1:\n",
    "        qcirc.x(3)\n",
    "        qcirc.barrier()\n",
    "\n",
    "    applyDisentaglementGates(qcirc, lamb)\n",
    "    # Set measurement step\n",
    "    for i in range(0, 4):\n",
    "        qcirc.measure(i, i)\n",
    "\n",
    "    return executeJobAndGetMagnetization(qcirc, FakeManilaV2(), 1024, 10)\n",
    "\n",
    "\n",
    "print(ground_state(lambd, \"qasm_simulator\"))\n",
    "# print(ground_state(.8,'statevector_simulator'))"
   ]
  },
  {
   "cell_type": "code",
   "execution_count": 36,
   "metadata": {},
   "outputs": [
    {
     "name": "stdout",
     "output_type": "stream",
     "text": [
      "Job Status: job has successfully run\n",
      "Job Status: job has successfully run\n",
      "Job Status: job has successfully run\n",
      "Job Status: job has successfully run\n",
      "Job Status: job has successfully run\n",
      "Job Status: job has successfully run\n",
      "Job Status: job has successfully run\n",
      "Job Status: job has successfully run\n",
      "Job Status: job has successfully run\n",
      "Job Status: job has successfully run\n",
      "Job Status: job has successfully run\n",
      "Job Status: job has successfully run\n",
      "Job Status: job has successfully run\n",
      "Job Status: job has successfully run\n",
      "Job Status: job has successfully run\n",
      "Job Status: job has successfully run\n",
      "Job Status: job has successfully run\n",
      "Job Status: job has successfully run\n",
      "[[0.0029296875], [0.048828125], [0.1142578125], [0.14453125], [0.171875], [0.212890625], [0.255859375], [0.314453125], [0.302734375], [0.34765625], [0.849609375], [0.8671875], [0.896484375], [0.8974609375], [0.912109375], [0.9287109375], [0.927734375], [0.931640625]]\n"
     ]
    }
   ],
   "source": [
    "lmbd = np.arange(0, 1.75, 0.1)\n",
    "sigmaz = []\n",
    "for l in lmbd:\n",
    "    sigmaz.append(ground_state(l, \"qasm_simulator\"))\n",
    "\n",
    "print(sigmaz)"
   ]
  },
  {
   "cell_type": "code",
   "execution_count": 37,
   "metadata": {},
   "outputs": [
    {
     "data": {
      "text/plain": [
       "(0.0, 1.8)"
      ]
     },
     "execution_count": 37,
     "metadata": {},
     "output_type": "execute_result"
    },
    {
     "data": {
      "image/png": "[encoded data removed]",
      "text/plain": [
       "<Figure size 640x480 with 1 Axes>"
      ]
     },
     "metadata": {},
     "output_type": "display_data"
    }
   ],
   "source": [
    "plt.plot(lmbd, sigmaz, \"bo\")\n",
    "plt.ylabel(\"$\\\\sigma_z$\")\n",
    "plt.xlabel(\"$\\\\lambda$\")\n",
    "plt.ylim(0.0, 1.1)\n",
    "plt.xlim(0.0, 1.8)"
   ]
  },
  {
   "cell_type": "code",
   "execution_count": 38,
   "metadata": {},
   "outputs": [
    {
     "name": "stdout",
     "output_type": "stream",
     "text": [
      "Job Status: job has successfully run\n"
     ]
    },
    {
     "data": {
      "image/png": "[encoded data removed]",
      "text/plain": [
       "<Figure size 700x500 with 1 Axes>"
      ]
     },
     "execution_count": 38,
     "metadata": {},
     "output_type": "execute_result"
    }
   ],
   "source": [
    "# Start up and initialize circuit\n",
    "# Measurement\n",
    "qcirc = QuantumCircuit(4, 4)\n",
    "# Set correct ground state if lambda < 1\n",
    "if lambd < 1:\n",
    "    qcirc.x(3)\n",
    "    qcirc.barrier()\n",
    "\n",
    "    # Apply disentangling gates\n",
    "applyDisentaglementGates(qcirc, lambd)\n",
    "# Set measurement step\n",
    "for i in range(0, 4):\n",
    "    qcirc.measure(i, i)\n",
    "\n",
    "\n",
    "# Using a fake backend provided with qiskit\n",
    "\n",
    "backend = FakeManilaV2()\n",
    "# Transipling essentially converts the circuit into a something that can run on the specific hardware specified\n",
    "transpiled_circuit = transpile(qcirc, backend)\n",
    "job = backend.run(transpiled_circuit)\n",
    "counts = job.result().get_counts()\n",
    "\n",
    "shots = 1024\n",
    "max_credits = 10  # Max number of credits to spend on execution\n",
    "job = execute(qcirc, backend=backend, shots=shots, max_credits=max_credits)\n",
    "job_monitor(job)\n",
    "result = job.result()\n",
    "counts = result.get_counts(qcirc)\n",
    "\n",
    "plot_distribution(counts)\n",
    "\n",
    "# had to comment this part because qc is a local variable in groundstate function now - Bruna"
   ]
  },
  {
   "cell_type": "code",
   "execution_count": 39,
   "metadata": {},
   "outputs": [
    {
     "name": "stdout",
     "output_type": "stream",
     "text": [
      "|0000> probability should be:  0.8841106397986879\n",
      "|0011> probability should be:  0.11588936020131207\n"
     ]
    }
   ],
   "source": [
    "phi = np.arccos(lambd / np.sqrt(1 + lambd**2)) / 2\n",
    "# print(result.get_statevector(qc))\n",
    "print(\"|0000> probability should be: \", np.cos(phi) ** 2)\n",
    "print(\"|0011> probability should be: \", np.sin(phi) ** 2)"
   ]
  },
  {
   "cell_type": "code",
   "execution_count": 40,
   "metadata": {},
   "outputs": [
    {
     "name": "stdout",
     "output_type": "stream",
     "text": [
      "Job Status: job has successfully run\n",
      "Job Status: job has successfully run\n",
      "Job Status: job has successfully run\n",
      "Job Status: job has successfully run\n"
     ]
    },
    {
     "name": "stderr",
     "output_type": "stream",
     "text": [
      "c:\\Users\\davis\\OneDrive - Colorado School of Mines\\1 Fall 2023\\PHGN 519 Fundamentals of Quantum Information\\project-1\\ising-model\\.venv\\Lib\\site-packages\\qiskit\\providers\\fake_provider\\fake_backend.py:354: RuntimeWarning: Aer not found using BasicAer and no noise\n",
      "  warnings.warn(\"Aer not found using BasicAer and no noise\", RuntimeWarning)\n",
      "c:\\Users\\davis\\OneDrive - Colorado School of Mines\\1 Fall 2023\\PHGN 519 Fundamentals of Quantum Information\\project-1\\ising-model\\.venv\\Lib\\site-packages\\qiskit\\utils\\deprecation.py:182: UserWarning: Option max_credits is not used by this backend\n",
      "  return func(*args, **kwargs)\n"
     ]
    },
    {
     "name": "stdout",
     "output_type": "stream",
     "text": [
      "Job Status: job has successfully run\n",
      "Job Status: job has successfully run\n",
      "Job Status: job has successfully run\n",
      "Job Status: job has successfully run\n",
      "Job Status: job has successfully run\n",
      "Job Status: job has successfully run\n"
     ]
    }
   ],
   "source": [
    "def Time_Evo(t, lamb, backend_name):\n",
    "    quc = QuantumCircuit(4, 4)\n",
    "\n",
    "    # step 1. we are already in the |111> state\n",
    "\n",
    "    # time evolution of computational basis, step 2\n",
    "    quc.u(\n",
    "        np.arccos(lamb / np.sqrt(1 + lamb**2)),\n",
    "        np.pi / 2 + 4 * t * np.sqrt(1 + lamb**2),\n",
    "        0,\n",
    "        0,\n",
    "    )\n",
    "    quc.cx(0, 1)\n",
    "\n",
    "    # magnetization\n",
    "    mag = []\n",
    "    # step 3\n",
    "    # Apply disentangling gates\n",
    "    applyDisentaglementGates(quc, lamb)\n",
    "    # Set measurement step\n",
    "    for i in range(0, 4):\n",
    "        quc.measure(i, i)\n",
    "\n",
    "    # provider = IBMQ.get_provider(hub='ibm-q', group='open', project='main')\n",
    "    backend = FakeManilaV2()\n",
    "    # backend = Aer.get_backend('statevector_simulator')\n",
    "    # backend = Aer.get_backend('qasm_simulator')\n",
    "    # backend = provider.get_backend('ibmq_qasm_simulator')\n",
    "    # backend = provider.get_backend('ibmqx4')\n",
    "    # backend = provider.get_backend('ibmqx2')\n",
    "    # backend = provider.get_backend('ibmq_16_melbourne')\n",
    "    return executeJobAndGetMagnetization(\n",
    "        quc, backend=FakeManilaV2(), shots=1024, max_credits=10\n",
    "    )\n",
    "\n",
    "\n",
    "# f = Time_Evo(qc,1,lambd,'qasm_simulator')\n",
    "# print(f)\n",
    "\n",
    "#\n",
    "ti = 0\n",
    "tf = 2\n",
    "time = np.arange(ti, tf, (tf - ti) / 10)\n",
    "f = []\n",
    "for t in time:\n",
    "    f.append(Time_Evo(t, 0.5, \"ibmq_athens\"))"
   ]
  },
  {
   "cell_type": "code",
   "execution_count": 41,
   "metadata": {},
   "outputs": [
    {
     "data": {
      "image/png": "[encoded data removed]",
      "text/plain": [
       "<Figure size 640x480 with 1 Axes>"
      ]
     },
     "metadata": {},
     "output_type": "display_data"
    }
   ],
   "source": [
    "# step 4\n",
    "plt.plot(time, f)\n",
    "plt.ylim(0.0, 1)\n",
    "plt.xlim(0.0, 1.8)\n",
    "plt.ylabel(\"Magnetization\")\n",
    "plt.xlabel(\"t\")\n",
    "plt.show()"
   ]
  },
  {
   "cell_type": "code",
   "execution_count": null,
   "metadata": {},
   "outputs": [],
   "source": []
  }
 ],
 "metadata": {
  "kernelspec": {
   "display_name": "Python 3 (ipykernel)",
   "language": "python",
   "name": "python3"
  },
  "language_info": {
   "codemirror_mode": {
    "name": "ipython",
    "version": 3
   },
   "file_extension": ".py",
   "mimetype": "text/x-python",
   "name": "python",
   "nbconvert_exporter": "python",
   "pygments_lexer": "ipython3",
   "version": "3.11.5"
  }
 },
 "nbformat": 4,
 "nbformat_minor": 4
}
