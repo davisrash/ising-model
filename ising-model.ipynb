{
 "cells": [
  {
   "cell_type": "code",
   "execution_count": 1,
   "metadata": {},
   "outputs": [],
   "source": [
    "# Imports\n",
    "import numpy as np\n",
    "from qiskit import QuantumCircuit, BasicAer, execute\n",
    "from qiskit.providers.fake_provider import FakeManilaV2\n",
    "from qiskit.tools.monitor import job_monitor\n",
    "import matplotlib.pyplot as plt\n",
    "from qiskit.visualization import *\n",
    "from qiskit.circuit.library import HGate, RXGate, PhaseGate"
   ]
  },
  {
   "cell_type": "code",
   "execution_count": 2,
   "metadata": {},
   "outputs": [],
   "source": [
    "# Set global Variables\n",
    "\n",
    "# number of qubits\n",
    "n = 4\n",
    "# lambda value\n",
    "lambd = 1.2"
   ]
  },
  {
   "cell_type": "code",
   "execution_count": 28,
   "metadata": {},
   "outputs": [],
   "source": [
    "# Functions \n",
    "def thetak(k: int, lamb: float) -> float:\n",
    "    \"\"\" Calculate a theta_k given k and lamba\n",
    "    Args:\n",
    "        k(int): k value\n",
    "        lamb(float): lambda value\n",
    "    Returns:\n",
    "        float: Value of theta\n",
    "    \"\"\"\n",
    "    angle = 2 * np.pi * k / n\n",
    "    x = np.cos(angle)\n",
    "    y = np.sin(angle)\n",
    "\n",
    "    return np.arccos((lamb - x) / np.sqrt((lamb - x) ** 2 + y**2))\n",
    "\n",
    "def bogo(qcirc: QuantumCircuit, qubits: list, theta: float):\n",
    "    \"\"\" Apply the Bogoliubov gate to a quantum circuit.\n",
    "    Args:\n",
    "        qcirc(QuantumCircuit): Qiskit Quantum Circuit. This circuit will be modified in place.\n",
    "        qubits(list): List of Qubits to apply the circuits to. Often obtained with circuit.qubits\n",
    "        theta(float): Angle to rotate in the X-axis by the controlled RX gate\n",
    "    \"\"\"\n",
    "    qcirc.x(qubits[1])\n",
    "    qcirc.cx(qubits[1], qubits[0])\n",
    "    qcirc.crx(theta, qubits[0], qubits[1])\n",
    "    qcirc.cx(qubits[1], qubits[0])\n",
    "    qcirc.x(qubits[1])\n",
    "\n",
    "def bogoDag(qcirc: QuantumCircuit, qubits: list, theta: float):\n",
    "    \"\"\" Apply the Bogoliubov Dagger gate to a quantum circuit.\n",
    "    Args:\n",
    "        qcirc(QuantumCircuit): Qiskit Quantum Circuit. This circuit will be modified in place.\n",
    "        qubits(list): List of Qubits to apply the circuits to. Often obtained with circuit.qubits\n",
    "        theta(float): Angle to rotate in the X-axis by the controlled RX gate\n",
    "    \"\"\"\n",
    "    qcirc.x(qubits[1])\n",
    "    qcirc.cx(qubits[1], qubits[0])\n",
    "    qcirc.crx(theta, qubits[0], qubits[1])\n",
    "    qcirc.cx(qubits[1], qubits[0])\n",
    "    qcirc.x(qubits[1])\n",
    "\n",
    "def digit_sum(n: int):\n",
    "    \"\"\" Sum the digits of a number.\n",
    "    Args:\n",
    "        n(int): Number to sum the digits of\n",
    "    Returns:\n",
    "        int: Sum of digits in number\n",
    "    \"\"\"\n",
    "    num_str = str(n)\n",
    "    sum = 0\n",
    "    for i in range(0, len(num_str)):\n",
    "        sum += int(num_str[i])\n",
    "    return sum\n",
    "\n",
    "def executeJobAndGetMagnetization(qcirc: QuantumCircuit, backend, shots: int, max_credits: float):\n",
    "    \"\"\" Execute the passed in Circuit as a job and return the magnetization results.\n",
    "    Args:\n",
    "        qcirc(QuantumCircuit): Qiskit Quantum Circtuit to be run\n",
    "        backend: Backend to run the job against\n",
    "        shots(int): Number of shots to run the job\n",
    "        max_credits(float): Maximum credits to be used for the job\n",
    "    Return:\n",
    "        float[]: Magnetization results from jobs\n",
    "    \"\"\"\n",
    "    # magnetization\n",
    "    mag = []\n",
    "    job = execute(qcirc, backend=backend, shots=shots, max_credits=max_credits)\n",
    "    job_monitor(job)\n",
    "    result = job.result()\n",
    "    counts = result.get_counts(qcirc)\n",
    "\n",
    "    r1 = list(counts.keys())\n",
    "    r2 = list(counts.values())\n",
    "    M = 0\n",
    "    for j in range(0, len(r1)):\n",
    "        M = M + (4 - 2 * digit_sum(r1[j])) * r2[j] / shots\n",
    "    # print(\"$\\lambda$: \",lam,\", $<\\sigma_{z}>$: \",M/4)\n",
    "    mag.append(M / 4)\n",
    "    return mag\n",
    "\n",
    "def fermionicSwap(qcirc: QuantumCircuit, qubits: list):\n",
    "    \"\"\" Apply fermionic swap gate to quantum circuit.\n",
    "    Args:\n",
    "        qcirc(QuantumCircuit): Qiskit Quantum Circuit. This circuit will be modified in place.\n",
    "        qubits(list): List of Qubits to apply the circuits to. Often obtained with circuit.qubits\n",
    "    \"\"\"\n",
    "    qcirc.swap(qubits[0], qubits[1])\n",
    "    qcirc.cz(qubits[0], qubits[1])\n",
    "\n",
    "def Fourier(qcirc: QuantumCircuit, qubits: list, n: int, k: int):\n",
    "    \"\"\" Apply Fast Fourier transform gates to circuit.\n",
    "    Args:\n",
    "        qcirc(QuantumCircuit): Qiskit Quantum Circuit. This circuit will be modified in place.\n",
    "        qubits(list): List of Qubits to apply the circuits to. Often obtained with circuit.qubits\n",
    "        n(int): Number of qubits\n",
    "        k(int): k value\n",
    "    \"\"\"\n",
    "    qcirc.cx(qubits[0], qubits[1])\n",
    "    qcirc.ch(qubits[1], qubits[0])\n",
    "    qcirc.cx(qubits[0], qubits[1])\n",
    "    qcirc.cz(qubits[0], qubits[1])\n",
    "    qcirc.p(2 * np.pi * k / n, qubits[0])\n",
    "\n",
    "def FourierDag(circuit: QuantumCircuit, qubits: list, n: int, k: int):\n",
    "    \"\"\" Apply Fast Fourier Dagger transform gates to quantum circuit.\n",
    "    Args:\n",
    "        qcirc(QuantumCircuit): Qiskit Quantum Circuit. This circuit will be modified in place.\n",
    "        qubits(list): List of Qubits to apply the circuits to. Often obtained with circuit.qubits\n",
    "        n(int): Number of qubits\n",
    "        k(int): k value\n",
    "    \"\"\"\n",
    "    # Other implementations may use sdgGate instead of the phase gate, but a phase gate with -Pi/2 is the same as sdg\n",
    "    inversePhaseGate = PhaseGate(2 * np.pi * k / n).inverse()\n",
    "    circuit.append(inversePhaseGate, qubits[0:1])\n",
    "    circuit.cx(qubits[0], qubits[1])\n",
    "    circuit.ch(qubits[1], qubits[0])\n",
    "    circuit.cx(qubits[0], qubits[1])\n",
    "    circuit.cz(qubits[0], qubits[1])\n",
    "\n",
    "def applyDisentaglementGates(qcirc: QuantumCircuit, lamb: float):\n",
    "    \"\"\" Apply the Disentaglement Gates to the quantum circuit.\n",
    "    Args:\n",
    "        qcirc(QuantumCircuit): Qiskit Quantum Circuit. This circuit will be modified in place.\n",
    "        lamb(float): lambda value\n",
    "    \"\"\"\n",
    "    bogo(qcirc, qcirc.qubits[0:2], thetak(1,lamb))\n",
    "    qcirc.barrier()\n",
    "    Fourier(qcirc, qcirc.qubits[0:2], 4, 1)\n",
    "    Fourier(qcirc, qcirc.qubits[2:4], 4, 0)\n",
    "    qcirc.barrier()\n",
    "    Fourier(qcirc, qcirc.qubits[0:2], 4, 0)\n",
    "    Fourier(qcirc, qcirc.qubits[2:4], 4, 0)\n",
    "\n",
    "\n",
    "def ground_state(lamb: float) -> list:\n",
    "    \"\"\" Create the ground state for running the transverse Ising-model circuit, then apply the disentaglement gates and run the circuit.\n",
    "    Args:\n",
    "        lamb(float): lambda value\n",
    "    Return:\n",
    "        float[]: Magnetizations for runnin the job\n",
    "    \"\"\"\n",
    "    # Create a quantum Circuit with 4 quantum bits and 4 classical\n",
    "    qcirc = QuantumCircuit(4, 4)\n",
    "    # Set correct ground state if lambda < 1\n",
    "    if lamb < 1:\n",
    "        qcirc.x(3)\n",
    "        qcirc.barrier()\n",
    "\n",
    "    applyDisentaglementGates(qcirc, lamb)\n",
    "    # Set measurement step\n",
    "    for i in range(0, 4):\n",
    "        qcirc.measure(i, i)\n",
    "\n",
    "    return executeJobAndGetMagnetization(qcirc, FakeManilaV2(), 1024, 10)"
   ]
  },
  {
   "cell_type": "code",
   "execution_count": 29,
   "metadata": {},
   "outputs": [
    {
     "data": {
      "image/png": "[encoded data removed]",
      "text/plain": [
       "<Figure size 1541.66x451.5 with 1 Axes>"
      ]
     },
     "execution_count": 29,
     "metadata": {},
     "output_type": "execute_result"
    }
   ],
   "source": [
    "# Draws the Ising Model circuit\n",
    "paperBasedCirc = QuantumCircuit(4,4)\n",
    "if lambd < 1:\n",
    "    paperBasedCirc.x(3)\n",
    "    paperBasedCirc.barrier()\n",
    "applyDisentaglementGates(paperBasedCirc, lambd)\n",
    "paperBasedCirc.draw('mpl')"
   ]
  },
  {
   "cell_type": "code",
   "execution_count": 30,
   "metadata": {},
   "outputs": [
    {
     "name": "stdout",
     "output_type": "stream",
     "text": [
      "Job Status: job has successfully run\n",
      "Job Status: job has successfully run\n",
      "Job Status: job has successfully run\n",
      "Job Status: job has successfully run\n",
      "Job Status: job has successfully run\n",
      "Job Status: job has successfully run\n",
      "Job Status: job has successfully run\n",
      "Job Status: job has successfully run\n",
      "Job Status: job has successfully run\n",
      "Job Status: job has successfully run\n",
      "Job Status: job has successfully run\n",
      "Job Status: job has successfully run\n",
      "Job Status: job has successfully run\n",
      "Job Status: job has successfully run\n",
      "Job Status: job has successfully run\n",
      "Job Status: job has successfully run\n",
      "Job Status: job has successfully run\n",
      "Job Status: job has successfully run\n",
      "[[0.0068359375], [0.03125], [0.1025390625], [0.142578125], [0.1748046875], [0.251953125], [0.251953125], [0.29296875], [0.30859375], [0.3330078125], [0.865234375], [0.861328125], [0.888671875], [0.900390625], [0.8896484375], [0.9169921875], [0.9208984375], [0.94140625]]\n"
     ]
    }
   ],
   "source": [
    "# Run the circuit over a range of lambdas\n",
    "lmbd = np.arange(0, 1.75, 0.1)\n",
    "sigmaz = []\n",
    "for l in lmbd:\n",
    "    sigmaz.append(ground_state(l))\n",
    "\n",
    "print(sigmaz)"
   ]
  },
  {
   "cell_type": "code",
   "execution_count": 31,
   "metadata": {},
   "outputs": [
    {
     "data": {
      "text/plain": [
       "(0.0, 1.8)"
      ]
     },
     "execution_count": 31,
     "metadata": {},
     "output_type": "execute_result"
    },
    {
     "data": {
      "image/png": "[encoded data removed]",
      "text/plain": [
       "<Figure size 640x480 with 1 Axes>"
      ]
     },
     "metadata": {},
     "output_type": "display_data"
    }
   ],
   "source": [
    "# Plot the magnetization values for the range of lambdas\n",
    "\n",
    "plt.plot(lmbd, sigmaz, \"bo\")\n",
    "plt.ylabel(\"$\\\\sigma_z$\")\n",
    "plt.xlabel(\"$\\\\lambda$\")\n",
    "plt.ylim(0.0, 1.1)\n",
    "plt.xlim(0.0, 1.8)"
   ]
  },
  {
   "cell_type": "code",
   "execution_count": 32,
   "metadata": {},
   "outputs": [
    {
     "name": "stdout",
     "output_type": "stream",
     "text": [
      "Job Status: job has successfully run\n"
     ]
    },
    {
     "data": {
      "image/png": "[encoded data removed]",
      "text/plain": [
       "<Figure size 700x500 with 1 Axes>"
      ]
     },
     "execution_count": 32,
     "metadata": {},
     "output_type": "execute_result"
    }
   ],
   "source": [
    "# Create a distribution plot for the states found by the jobs\n",
    "# Measurement\n",
    "qcirc = QuantumCircuit(4, 4)\n",
    "# Set correct ground state if lambda < 1\n",
    "if lambd < 1:\n",
    "    qcirc.x(3)\n",
    "    qcirc.barrier()\n",
    "\n",
    "# Apply disentangling gates\n",
    "applyDisentaglementGates(qcirc, lambd)\n",
    "# Set measurement step\n",
    "for i in range(0, 4):\n",
    "    qcirc.measure(i, i)\n",
    "\n",
    "\n",
    "# Using a fake backend provided with qiskit\n",
    "\n",
    "backend = FakeManilaV2()\n",
    "\n",
    "shots = 1024\n",
    "max_credits = 10  # Max number of credits to spend on execution\n",
    "job = execute(qcirc, backend=backend, shots=shots, max_credits=max_credits)\n",
    "job_monitor(job)\n",
    "result = job.result()\n",
    "counts = result.get_counts(qcirc)\n",
    "\n",
    "plot_distribution(counts)\n",
    "\n",
    "# had to comment this part because qc is a local variable in groundstate function now - Bruna"
   ]
  },
  {
   "cell_type": "code",
   "execution_count": 33,
   "metadata": {},
   "outputs": [
    {
     "name": "stdout",
     "output_type": "stream",
     "text": [
      "|0000> probability should be:  0.8841106397986879\n",
      "|0011> probability should be:  0.11588936020131207\n"
     ]
    }
   ],
   "source": [
    "# Calculate expected probabilites of states\n",
    "\n",
    "phi = np.arccos(lambd / np.sqrt(1 + lambd**2)) / 2\n",
    "# print(result.get_statevector(qc))\n",
    "print(\"|0000> probability should be: \", np.cos(phi) ** 2)\n",
    "print(\"|0011> probability should be: \", np.sin(phi) ** 2)"
   ]
  },
  {
   "cell_type": "code",
   "execution_count": 34,
   "metadata": {},
   "outputs": [
    {
     "name": "stderr",
     "output_type": "stream",
     "text": [
      "c:\\Users\\timmy\\OneDrive\\GradSchool\\QuantumInfo\\qiskitEnvironment\\lib\\site-packages\\qiskit\\utils\\deprecation.py:182: UserWarning: Option max_credits is not used by this backend\n",
      "  return func(*args, **kwargs)\n"
     ]
    },
    {
     "name": "stdout",
     "output_type": "stream",
     "text": [
      "Job Status: job has successfully run\n",
      "Job Status: job has successfully run\n",
      "Job Status: job has successfully run\n",
      "Job Status: job has successfully run\n",
      "Job Status: job has successfully run\n",
      "Job Status: job has successfully run\n",
      "Job Status: job has successfully run\n",
      "Job Status: job has successfully run\n",
      "Job Status: job has successfully run\n",
      "Job Status: job has successfully run\n",
      "Job Status: job has successfully run\n",
      "Job Status: job has successfully run\n",
      "Job Status: job has successfully run\n",
      "Job Status: job has successfully run\n",
      "Job Status: job has successfully run\n",
      "Job Status: job has successfully run\n",
      "Job Status: job has successfully run\n",
      "Job Status: job has successfully run\n",
      "Job Status: job has successfully run\n",
      "Job Status: job has successfully run\n",
      "Job Status: job has successfully run\n",
      "Job Status: job has successfully run\n",
      "Job Status: job has successfully run\n",
      "Job Status: job has successfully run\n",
      "Job Status: job has successfully run\n",
      "Job Status: job has successfully run\n",
      "Job Status: job has successfully run\n",
      "Job Status: job has successfully run\n",
      "Job Status: job has successfully run\n",
      "Job Status: job has successfully run\n",
      "Job Status: job has successfully run\n",
      "Job Status: job has successfully run\n",
      "Job Status: job has successfully run\n",
      "Job Status: job has successfully run\n",
      "Job Status: job has successfully run\n",
      "Job Status: job has successfully run\n",
      "Job Status: job has successfully run\n",
      "Job Status: job has successfully run\n",
      "Job Status: job has successfully run\n",
      "Job Status: job has successfully run\n",
      "Job Status: job has successfully run\n",
      "Job Status: job has successfully run\n",
      "Job Status: job has successfully run\n",
      "Job Status: job has successfully run\n",
      "Job Status: job has successfully run\n",
      "Job Status: job has successfully run\n",
      "Job Status: job has successfully run\n",
      "Job Status: job has successfully run\n",
      "Job Status: job has successfully run\n",
      "Job Status: job has successfully run\n"
     ]
    }
   ],
   "source": [
    "def wire(n=4):\n",
    "    \"\"\" Create a quantum circuit and initialize the ground state.\n",
    "    Args:\n",
    "        n: Number of qubits in circuit\n",
    "    \"\"\"\n",
    "    qcirc = QuantumCircuit(n, n)\n",
    "    if lambd < 1:\n",
    "        qcirc.x(3)\n",
    "        qcirc.barrier()\n",
    "    \n",
    "    return qcirc\n",
    "\n",
    "def time_evol(t, lambd, backend_name, qcirc):\n",
    "    \"\"\" Perform time evolution of the Ising Model.\n",
    "    Args:\n",
    "        t: Time values to evolve over\n",
    "        lambd: Lambda value\n",
    "        backend_name: Name of the backend to run on.\n",
    "        qcirc: Quantum Circuit to time evolve.\n",
    "    Return:\n",
    "        float[]: Magnetization results\n",
    "    \"\"\"\n",
    "    # This line seems to do everything time related for the transform\n",
    "    qcirc.u(np.arccos(lambd/np.sqrt(1+lambd**2)), np.pi/2 + 4*t*np.sqrt(1+lambd**2), 0, 0)\n",
    "    qcirc.cx(0, 1)\n",
    "    \n",
    "    mag = []\n",
    "    \n",
    "    applyDisentaglementGates(qcirc, lambd)\n",
    "    \n",
    "    for i in range(0,4):\n",
    "        qcirc.measure(i,i)\n",
    "    \n",
    "    backend = BasicAer.get_backend(backend_name)\n",
    "    \n",
    "    shots = 1024\n",
    "    max_credits = 10 \n",
    "    job = execute(qcirc, backend=backend, shots=shots, max_credits=max_credits)\n",
    "    job_monitor(job)\n",
    "    result = job.result()\n",
    "    counts = result.get_counts(qcirc)\n",
    "    \n",
    "    r1=list(counts.keys())\n",
    "    r2=list(counts.values())\n",
    "    M=0\n",
    "    for j in range(0,len(r1)):\n",
    "        M=M+(4-2*digit_sum(r1[j]))*r2[j]/shots\n",
    "\n",
    "    mag.append(M/4)\n",
    "    return mag\n",
    "\n",
    "time = np.arange(0, 2.5, 0.05)\n",
    "sigmaz = []\n",
    "\n",
    "for t in time:\n",
    "    sigmaz.append(time_evol(t, lambd, 'qasm_simulator', wire()))"
   ]
  },
  {
   "cell_type": "code",
   "execution_count": 35,
   "metadata": {},
   "outputs": [
    {
     "data": {
      "image/png": "[encoded data removed]",
      "text/plain": [
       "<Figure size 640x480 with 1 Axes>"
      ]
     },
     "metadata": {},
     "output_type": "display_data"
    }
   ],
   "source": [
    "# Plot the time evolution\n",
    "\n",
    "plt.plot(time, sigmaz, \"bo\")\n",
    "plt.ylim(0., 1.5)\n",
    "plt.xlim(0., 3)\n",
    "plt.ylabel(\"$\\sigma_z$\")\n",
    "plt.xlabel(\"t\")\n",
    "plt.show()"
   ]
  },
  {
   "cell_type": "code",
   "execution_count": null,
   "metadata": {},
   "outputs": [],
   "source": [
    "def plot(mag, time, lamb):\n",
    "    plt.plot(time, mag, \"bo\")\n",
    "    plt.ylim(0., 1.5)\n",
    "    plt.xlim(0., 3)\n",
    "    plt.ylabel(\"$\\sigma_z$, $\\lambda$={}\".format(lamb))\n",
    "    plt.xlabel(\"t\")\n",
    "    plt.show()\n",
    "\n",
    "lambda_list = np.arange(-1, 2.5, 0.1)\n",
    "time_list = np.arange(0, 2.5, 0.1)\n",
    "\n",
    "for i in lambda_list:\n",
    "    sigmaz = []\n",
    "    for j in time_list:\n",
    "        sigmaz.append(time_evol(j, i, 'qasm_simulator', wire()))\n",
    "    plot(sigmaz, time_list, i)"
   ]
  },
  {
   "cell_type": "code",
   "execution_count": null,
   "metadata": {},
   "outputs": [],
   "source": []
  },
  {
   "cell_type": "code",
   "execution_count": null,
   "metadata": {},
   "outputs": [],
   "source": []
  }
 ],
 "metadata": {
  "kernelspec": {
   "display_name": "Python 3 (ipykernel)",
   "language": "python",
   "name": "python3"
  },
  "language_info": {
   "codemirror_mode": {
    "name": "ipython",
    "version": 3
   },
   "file_extension": ".py",
   "mimetype": "text/x-python",
   "name": "python",
   "nbconvert_exporter": "python",
   "pygments_lexer": "ipython3",
   "version": "3.9.13"
  }
 },
 "nbformat": 4,
 "nbformat_minor": 4
}
