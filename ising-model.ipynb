{
 "cells": [
  {
   "cell_type": "code",
   "execution_count": 4,
   "metadata": {},
   "outputs": [
    {
     "ename": "ModuleNotFoundError",
     "evalue": "No module named 'qiskit_ibm_provider'",
     "output_type": "error",
     "traceback": [
      "\u001b[1;31m---------------------------------------------------------------------------\u001b[0m",
      "\u001b[1;31mModuleNotFoundError\u001b[0m                       Traceback (most recent call last)",
      "\u001b[1;32mc:\\Users\\davis\\OneDrive - Colorado School of Mines\\1 Fall 2023\\PHGN 519 Fundamentals of Quantum Information\\project-1\\ising-model\\ising-model.ipynb Cell 1\u001b[0m line \u001b[0;36m2\n\u001b[0;32m      <a href='vscode-notebook-cell:/c%3A/Users/davis/OneDrive%20-%20Colorado%20School%20of%20Mines/1%20Fall%202023/PHGN%20519%20Fundamentals%20of%20Quantum%20Information/project-1/ising-model/ising-model.ipynb#W0sZmlsZQ%3D%3D?line=0'>1</a>\u001b[0m \u001b[39mfrom\u001b[39;00m \u001b[39mqiskit\u001b[39;00m \u001b[39mimport\u001b[39;00m \u001b[39m*\u001b[39m\n\u001b[1;32m----> <a href='vscode-notebook-cell:/c%3A/Users/davis/OneDrive%20-%20Colorado%20School%20of%20Mines/1%20Fall%202023/PHGN%20519%20Fundamentals%20of%20Quantum%20Information/project-1/ising-model/ising-model.ipynb#W0sZmlsZQ%3D%3D?line=1'>2</a>\u001b[0m \u001b[39mfrom\u001b[39;00m \u001b[39mqiskit_ibm_provider\u001b[39;00m \u001b[39mimport\u001b[39;00m IBMProvider\n\u001b[0;32m      <a href='vscode-notebook-cell:/c%3A/Users/davis/OneDrive%20-%20Colorado%20School%20of%20Mines/1%20Fall%202023/PHGN%20519%20Fundamentals%20of%20Quantum%20Information/project-1/ising-model/ising-model.ipynb#W0sZmlsZQ%3D%3D?line=2'>3</a>\u001b[0m \u001b[39mimport\u001b[39;00m \u001b[39mqiskit_ibm_provider\u001b[39;00m\u001b[39m.\u001b[39;00m\u001b[39mjupyter\u001b[39;00m\n",
      "\u001b[1;31mModuleNotFoundError\u001b[0m: No module named 'qiskit_ibm_provider'"
     ]
    }
   ],
   "source": [
    "from qiskit import *\n",
    "from qiskit_ibm_provider import IBMProvider\n",
    "import qiskit_ibm_provider.jupyter"
   ]
  }
 ],
 "metadata": {
  "kernelspec": {
   "display_name": "Python 3",
   "language": "python",
   "name": "python3"
  },
  "language_info": {
   "codemirror_mode": {
    "name": "ipython",
    "version": 3
   },
   "file_extension": ".py",
   "mimetype": "text/x-python",
   "name": "python",
   "nbconvert_exporter": "python",
   "pygments_lexer": "ipython3",
   "version": "3.11.5"
  },
  "orig_nbformat": 4
 },
 "nbformat": 4,
 "nbformat_minor": 2
}
