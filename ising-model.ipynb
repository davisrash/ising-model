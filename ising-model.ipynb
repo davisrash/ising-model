{
 "cells": [
  {
   "cell_type": "code",
   "execution_count": 7,
   "metadata": {},
   "outputs": [],
   "source": [
    "from qiskit import *\n",
    "from qiskit_ibm_provider import IBMProvider\n",
    "# import qiskit_ibm_provider.jupyter"
   ]
  },
  {
   "cell_type": "code",
   "execution_count": 8,
   "metadata": {},
   "outputs": [
    {
     "name": "stderr",
     "output_type": "stream",
     "text": [
      "UsageError: Line magic function `%ibm_quantum_dashboard` not found.\n"
     ]
    }
   ],
   "source": [
    "%ibm_quantum_dashboard"
   ]
  },
  {
   "cell_type": "code",
   "execution_count": 10,
   "metadata": {},
   "outputs": [
    {
     "ename": "AccountNotFoundError",
     "evalue": "'No default ibm_quantum account saved.'",
     "output_type": "error",
     "traceback": [
      "\u001b[1;31m---------------------------------------------------------------------------\u001b[0m",
      "\u001b[1;31mAccountNotFoundError\u001b[0m                      Traceback (most recent call last)",
      "\u001b[1;32mc:\\Users\\davis\\OneDrive - Colorado School of Mines\\1 Fall 2023\\PHGN 519 Fundamentals of Quantum Information\\project-1\\ising-model\\ising-model.ipynb Cell 3\u001b[0m line \u001b[0;36m1\n\u001b[1;32m----> <a href='vscode-notebook-cell:/c%3A/Users/davis/OneDrive%20-%20Colorado%20School%20of%20Mines/1%20Fall%202023/PHGN%20519%20Fundamentals%20of%20Quantum%20Information/project-1/ising-model/ising-model.ipynb#W3sZmlsZQ%3D%3D?line=0'>1</a>\u001b[0m provider \u001b[39m=\u001b[39m IBMProvider()\n",
      "File \u001b[1;32mc:\\Users\\davis\\OneDrive - Colorado School of Mines\\1 Fall 2023\\PHGN 519 Fundamentals of Quantum Information\\project-1\\ising-model\\.venv\\Lib\\site-packages\\qiskit_ibm_provider\\ibm_provider.py:162\u001b[0m, in \u001b[0;36mIBMProvider.__init__\u001b[1;34m(self, token, url, name, instance, proxies, verify)\u001b[0m\n\u001b[0;32m    139\u001b[0m \u001b[39m\u001b[39m\u001b[39m\"\"\"IBMProvider constructor\u001b[39;00m\n\u001b[0;32m    140\u001b[0m \n\u001b[0;32m    141\u001b[0m \u001b[39mArgs:\u001b[39;00m\n\u001b[1;32m   (...)\u001b[0m\n\u001b[0;32m    159\u001b[0m \n\u001b[0;32m    160\u001b[0m \u001b[39m\"\"\"\u001b[39;00m\n\u001b[0;32m    161\u001b[0m \u001b[39msuper\u001b[39m()\u001b[39m.\u001b[39m\u001b[39m__init__\u001b[39m()\n\u001b[1;32m--> 162\u001b[0m \u001b[39mself\u001b[39m\u001b[39m.\u001b[39m_account \u001b[39m=\u001b[39m \u001b[39mself\u001b[39;49m\u001b[39m.\u001b[39;49m_discover_account(\n\u001b[0;32m    163\u001b[0m     token\u001b[39m=\u001b[39;49mtoken,\n\u001b[0;32m    164\u001b[0m     url\u001b[39m=\u001b[39;49murl,\n\u001b[0;32m    165\u001b[0m     instance\u001b[39m=\u001b[39;49minstance,\n\u001b[0;32m    166\u001b[0m     name\u001b[39m=\u001b[39;49mname,\n\u001b[0;32m    167\u001b[0m     proxies\u001b[39m=\u001b[39;49mProxyConfiguration(\u001b[39m*\u001b[39;49m\u001b[39m*\u001b[39;49mproxies) \u001b[39mif\u001b[39;49;00m proxies \u001b[39melse\u001b[39;49;00m \u001b[39mNone\u001b[39;49;00m,\n\u001b[0;32m    168\u001b[0m     verify\u001b[39m=\u001b[39;49mverify,\n\u001b[0;32m    169\u001b[0m )\n\u001b[0;32m    171\u001b[0m \u001b[39mself\u001b[39m\u001b[39m.\u001b[39m_client_params \u001b[39m=\u001b[39m ClientParameters(\n\u001b[0;32m    172\u001b[0m     token\u001b[39m=\u001b[39m\u001b[39mself\u001b[39m\u001b[39m.\u001b[39m_account\u001b[39m.\u001b[39mtoken,\n\u001b[0;32m    173\u001b[0m     url\u001b[39m=\u001b[39m\u001b[39mself\u001b[39m\u001b[39m.\u001b[39m_account\u001b[39m.\u001b[39murl,\n\u001b[1;32m   (...)\u001b[0m\n\u001b[0;32m    176\u001b[0m     verify\u001b[39m=\u001b[39m\u001b[39mself\u001b[39m\u001b[39m.\u001b[39m_account\u001b[39m.\u001b[39mverify,\n\u001b[0;32m    177\u001b[0m )\n\u001b[0;32m    178\u001b[0m \u001b[39mself\u001b[39m\u001b[39m.\u001b[39m_auth_client \u001b[39m=\u001b[39m \u001b[39mself\u001b[39m\u001b[39m.\u001b[39m_authenticate_ibm_quantum_account(\u001b[39mself\u001b[39m\u001b[39m.\u001b[39m_client_params)\n",
      "File \u001b[1;32mc:\\Users\\davis\\OneDrive - Colorado School of Mines\\1 Fall 2023\\PHGN 519 Fundamentals of Quantum Information\\project-1\\ising-model\\.venv\\Lib\\site-packages\\qiskit_ibm_provider\\ibm_provider.py:221\u001b[0m, in \u001b[0;36mIBMProvider._discover_account\u001b[1;34m(token, url, instance, name, proxies, verify)\u001b[0m\n\u001b[0;32m    217\u001b[0m         \u001b[39mif\u001b[39;00m url:\n\u001b[0;32m    218\u001b[0m             logger\u001b[39m.\u001b[39mwarning(\n\u001b[0;32m    219\u001b[0m                 \u001b[39m\"\u001b[39m\u001b[39mLoading default ibm_quantum account. Input \u001b[39m\u001b[39m'\u001b[39m\u001b[39murl\u001b[39m\u001b[39m'\u001b[39m\u001b[39m is ignored.\u001b[39m\u001b[39m\"\u001b[39m\n\u001b[0;32m    220\u001b[0m             )\n\u001b[1;32m--> 221\u001b[0m         account \u001b[39m=\u001b[39m AccountManager\u001b[39m.\u001b[39;49mget(channel\u001b[39m=\u001b[39;49m\u001b[39m\"\u001b[39;49m\u001b[39mibm_quantum\u001b[39;49m\u001b[39m\"\u001b[39;49m)\n\u001b[0;32m    223\u001b[0m \u001b[39mif\u001b[39;00m account \u001b[39mis\u001b[39;00m \u001b[39mNone\u001b[39;00m:\n\u001b[0;32m    224\u001b[0m     account \u001b[39m=\u001b[39m AccountManager\u001b[39m.\u001b[39mget()\n",
      "File \u001b[1;32mc:\\Users\\davis\\OneDrive - Colorado School of Mines\\1 Fall 2023\\PHGN 519 Fundamentals of Quantum Information\\project-1\\ising-model\\.venv\\Lib\\site-packages\\qiskit_ibm_provider\\accounts\\management.py:154\u001b[0m, in \u001b[0;36mAccountManager.get\u001b[1;34m(cls, name, channel)\u001b[0m\n\u001b[0;32m    149\u001b[0m     saved_account \u001b[39m=\u001b[39m read_config(\n\u001b[0;32m    150\u001b[0m         filename\u001b[39m=\u001b[39m\u001b[39mcls\u001b[39m\u001b[39m.\u001b[39m_default_account_config_json_file,\n\u001b[0;32m    151\u001b[0m         name\u001b[39m=\u001b[39m\u001b[39mcls\u001b[39m\u001b[39m.\u001b[39m_default_account_name_ibm_quantum,\n\u001b[0;32m    152\u001b[0m     )\n\u001b[0;32m    153\u001b[0m     \u001b[39mif\u001b[39;00m saved_account \u001b[39mis\u001b[39;00m \u001b[39mNone\u001b[39;00m:\n\u001b[1;32m--> 154\u001b[0m         \u001b[39mraise\u001b[39;00m AccountNotFoundError(\u001b[39mf\u001b[39m\u001b[39m\"\u001b[39m\u001b[39mNo default \u001b[39m\u001b[39m{\u001b[39;00mchannel\u001b[39m}\u001b[39;00m\u001b[39m account saved.\u001b[39m\u001b[39m\"\u001b[39m)\n\u001b[0;32m    155\u001b[0m     \u001b[39mreturn\u001b[39;00m Account\u001b[39m.\u001b[39mfrom_saved_format(saved_account)\n\u001b[0;32m    157\u001b[0m all_config \u001b[39m=\u001b[39m read_config(filename\u001b[39m=\u001b[39m\u001b[39mcls\u001b[39m\u001b[39m.\u001b[39m_default_account_config_json_file)\n",
      "\u001b[1;31mAccountNotFoundError\u001b[0m: 'No default ibm_quantum account saved.'"
     ]
    }
   ],
   "source": [
    "provider = IBMProvider()"
   ]
  },
  {
   "cell_type": "code",
   "execution_count": 11,
   "metadata": {},
   "outputs": [
    {
     "ename": "NameError",
     "evalue": "name 'provider' is not defined",
     "output_type": "error",
     "traceback": [
      "\u001b[1;31m---------------------------------------------------------------------------\u001b[0m",
      "\u001b[1;31mNameError\u001b[0m                                 Traceback (most recent call last)",
      "\u001b[1;32mc:\\Users\\davis\\OneDrive - Colorado School of Mines\\1 Fall 2023\\PHGN 519 Fundamentals of Quantum Information\\project-1\\ising-model\\ising-model.ipynb Cell 4\u001b[0m line \u001b[0;36m4\n\u001b[0;32m      <a href='vscode-notebook-cell:/c%3A/Users/davis/OneDrive%20-%20Colorado%20School%20of%20Mines/1%20Fall%202023/PHGN%20519%20Fundamentals%20of%20Quantum%20Information/project-1/ising-model/ising-model.ipynb#W2sZmlsZQ%3D%3D?line=0'>1</a>\u001b[0m \u001b[39mfrom\u001b[39;00m \u001b[39mqiskit_ibm_provider\u001b[39;00m \u001b[39mimport\u001b[39;00m least_busy\n\u001b[0;32m      <a href='vscode-notebook-cell:/c%3A/Users/davis/OneDrive%20-%20Colorado%20School%20of%20Mines/1%20Fall%202023/PHGN%20519%20Fundamentals%20of%20Quantum%20Information/project-1/ising-model/ising-model.ipynb#W2sZmlsZQ%3D%3D?line=2'>3</a>\u001b[0m backend \u001b[39m=\u001b[39m least_busy(\n\u001b[1;32m----> <a href='vscode-notebook-cell:/c%3A/Users/davis/OneDrive%20-%20Colorado%20School%20of%20Mines/1%20Fall%202023/PHGN%20519%20Fundamentals%20of%20Quantum%20Information/project-1/ising-model/ising-model.ipynb#W2sZmlsZQ%3D%3D?line=3'>4</a>\u001b[0m     provider\u001b[39m.\u001b[39mbackends(\n\u001b[0;32m      <a href='vscode-notebook-cell:/c%3A/Users/davis/OneDrive%20-%20Colorado%20School%20of%20Mines/1%20Fall%202023/PHGN%20519%20Fundamentals%20of%20Quantum%20Information/project-1/ising-model/ising-model.ipynb#W2sZmlsZQ%3D%3D?line=4'>5</a>\u001b[0m         simulator\u001b[39m=\u001b[39m\u001b[39mFalse\u001b[39;00m, filters\u001b[39m=\u001b[39m\u001b[39mlambda\u001b[39;00m b: b\u001b[39m.\u001b[39mconfiguration()\u001b[39m.\u001b[39mn_qubits \u001b[39m>\u001b[39m\u001b[39m=\u001b[39m \u001b[39m5\u001b[39m\n\u001b[0;32m      <a href='vscode-notebook-cell:/c%3A/Users/davis/OneDrive%20-%20Colorado%20School%20of%20Mines/1%20Fall%202023/PHGN%20519%20Fundamentals%20of%20Quantum%20Information/project-1/ising-model/ising-model.ipynb#W2sZmlsZQ%3D%3D?line=5'>6</a>\u001b[0m     )\n\u001b[0;32m      <a href='vscode-notebook-cell:/c%3A/Users/davis/OneDrive%20-%20Colorado%20School%20of%20Mines/1%20Fall%202023/PHGN%20519%20Fundamentals%20of%20Quantum%20Information/project-1/ising-model/ising-model.ipynb#W2sZmlsZQ%3D%3D?line=6'>7</a>\u001b[0m )\n\u001b[0;32m      <a href='vscode-notebook-cell:/c%3A/Users/davis/OneDrive%20-%20Colorado%20School%20of%20Mines/1%20Fall%202023/PHGN%20519%20Fundamentals%20of%20Quantum%20Information/project-1/ising-model/ising-model.ipynb#W2sZmlsZQ%3D%3D?line=8'>9</a>\u001b[0m qc\u001b[39m.\u001b[39mQuantumCircuit(\u001b[39m2\u001b[39m, \u001b[39m2\u001b[39m)\n\u001b[0;32m     <a href='vscode-notebook-cell:/c%3A/Users/davis/OneDrive%20-%20Colorado%20School%20of%20Mines/1%20Fall%202023/PHGN%20519%20Fundamentals%20of%20Quantum%20Information/project-1/ising-model/ising-model.ipynb#W2sZmlsZQ%3D%3D?line=9'>10</a>\u001b[0m qc\u001b[39m.\u001b[39mh(\u001b[39m0\u001b[39m)\n",
      "\u001b[1;31mNameError\u001b[0m: name 'provider' is not defined"
     ]
    }
   ],
   "source": [
    "from qiskit_ibm_provider import least_busy\n",
    "\n",
    "backend = least_busy(\n",
    "    provider.backends(\n",
    "        simulator=False, filters=lambda b: b.configuration().n_qubits >= 5\n",
    "    )\n",
    ")\n",
    "\n",
    "qc.QuantumCircuit(2, 2)\n",
    "qc.h(0)\n",
    "qc.cx(0, 1)\n",
    "qc.measure([0, 1], [0, 1])\n",
    "\n",
    "mapped_circuit = transpile(qc, backend=backend)\n",
    "job = backend.run(mapped_circuit, shots=1024)\n"
   ]
  },
  {
   "cell_type": "code",
   "execution_count": 1,
   "metadata": {},
   "outputs": [
    {
     "name": "stdout",
     "output_type": "stream",
     "text": [
      "Job Status: job has successfully run\n",
      "[0.890625]\n"
     ]
    },
    {
     "name": "stderr",
     "output_type": "stream",
     "text": [
      "c:\\Users\\timmy\\OneDrive\\GradSchool\\QuantumInfo\\qiskitEnvironment\\lib\\site-packages\\qiskit\\providers\\fake_provider\\fake_backend.py:354: RuntimeWarning: Aer not found using BasicAer and no noise\n",
      "  warnings.warn(\"Aer not found using BasicAer and no noise\", RuntimeWarning)\n",
      "c:\\Users\\timmy\\OneDrive\\GradSchool\\QuantumInfo\\qiskitEnvironment\\lib\\site-packages\\qiskit\\utils\\deprecation.py:182: UserWarning: Option max_credits is not used by this backend\n",
      "  return func(*args, **kwargs)\n"
     ]
    }
   ],
   "source": [
    "%reset -f\n",
    "#%matplotlib inline\n",
    "# Importing standard Qiskit libraries and configuring account\n",
    "from qiskit import QuantumCircuit, execute, IBMQ, QuantumRegister\n",
    "from qiskit.providers.fake_provider import FakeManilaV2\n",
    "from qiskit import transpile\n",
    "from qiskit.compiler import transpile, assemble\n",
    "from qiskit.tools.monitor import job_monitor\n",
    "import matplotlib.pyplot as plt\n",
    "from qiskit.tools.jupyter import *\n",
    "from qiskit.visualization import *\n",
    "from qiskit.quantum_info import *\n",
    "import numpy as np\n",
    "#provider = IBMQ.load_account()\n",
    "\n",
    "    \n",
    "# Loading your IBM Q account(s)\n",
    "#provider = IBMQ.load_account()\n",
    "\n",
    "#constants\n",
    "n = 4\n",
    "lambd = 1.2\n",
    "\n",
    "def thetak(k,lamb):\n",
    "    num = lamb - np.cos(2*np.pi*k/n)\n",
    "    denom = np.sqrt( (lamb-np.cos(2*np.pi*k/n))**2 + np.sin(2*np.pi*k/n)**2)\n",
    "    theta = np.arccos(num/denom)\n",
    "    return theta\n",
    "\n",
    "#Create functions based on the decomposition included in appendix of Ising paper\n",
    "def bog(qcirc, q1, q2, theta):\n",
    "    qcirc.x(q2)\n",
    "    qcirc.cx(q2, q1)\n",
    "    #Controlled RX gate\n",
    "    qcirc.rz(np.pi/2, q2)\n",
    "    qcirc.ry(theta/2, q2)\n",
    "    qcirc.cx(q1, q2)\n",
    "    qcirc.ry(-theta/2, q2)\n",
    "    qcirc.cx(q1, q2) #changed from qc to qcirc here - Bruna\n",
    "    qcirc.rz(-np.pi/2, q2)\n",
    "    #####################\n",
    "    qcirc.cx(q2, q1)\n",
    "    qcirc.x(q2)\n",
    "    qcirc.barrier()\n",
    "    return qcirc\n",
    "    \n",
    "def fourier(qcirc, q1, q2, phase):\n",
    "    qcirc.rz(phase, q1)\n",
    "    qcirc.cx(q1, q2)\n",
    "    #Controlled Hadamard\n",
    "    qcirc.sdg(q1)\n",
    "    qcirc.h(q1)\n",
    "    qcirc.tdg(q1)\n",
    "    qcirc.cx(q2, q1)\n",
    "    qcirc.t(q1)\n",
    "    qcirc.h(q1)\n",
    "    qcirc.s(q1)\n",
    "    ####################\n",
    "    qcirc.cx(q1, q2)\n",
    "    qcirc.cz(q1, q2)\n",
    "    qcirc.barrier()\n",
    "    return qcirc\n",
    "\n",
    "def digit_sum(n):\n",
    "    num_str = str(n)\n",
    "    sum = 0\n",
    "    for i in range(0, len(num_str)):\n",
    "        sum += int(num_str[i])\n",
    "    return sum\n",
    "\n",
    "def ground_state(lamb, backend_name): # backend is now an imput, so we can plot \n",
    "                                      # different ones easily - Bruna\n",
    "    # Create a quantum Circuit with 4 quantum bits and 3 classical\n",
    "    qc = QuantumCircuit(4, 4)\n",
    "    #Set correct ground state if lambda < 1\n",
    "    if lamb < 1:\n",
    "        qc.x(3)\n",
    "        qc.barrier()\n",
    "    #magnetization\n",
    "    mag = []\n",
    "    \n",
    "    #Apply disentangling gates\n",
    "    qc = bog(qc, 0, 1, thetak(1.,lamb))\n",
    "    qc = fourier(qc, 0, 1, 2*np.pi/n)\n",
    "    qc = fourier(qc, 2, 3, 0.)\n",
    "    qc = fourier(qc, 0, 1, 0.)\n",
    "    qc = fourier(qc, 2, 3, 0.)\n",
    "    #Set measurement step\n",
    "    for i in range(0,4):\n",
    "        qc.measure(i,i)\n",
    "        \n",
    "    #backend = Aer.get_backend(backend_name)\n",
    "    # Using a fake backend included in qiskit\n",
    "    backend = FakeManilaV2()\n",
    "    shots = 1024\n",
    "    max_credits = 10 #Max number of credits to spend on execution\n",
    "    job = execute(qc, backend=backend, shots=shots, max_credits=max_credits)\n",
    "    job_monitor(job)\n",
    "    result = job.result()\n",
    "    counts = result.get_counts(qc)\n",
    "    ##while not '0000' in counts:\n",
    "    #    job = execute(qc, backend=backend, shots=shots, max_credits=max_credits)\n",
    "    #    job_monitor(job)\n",
    "    #    result = job.result()\n",
    "    #    counts = result.get_counts(qc)\n",
    "    #Check what ground state is based on lambda\n",
    "    \n",
    "    r1=list(counts.keys())\n",
    "    r2=list(counts.values())\n",
    "    M=0\n",
    "    for j in range(0,len(r1)):\n",
    "        M=M+(4-2*digit_sum(r1[j]))*r2[j]/shots\n",
    "    #print(\"$\\lambda$: \",lam,\", $<\\sigma_{z}>$: \",M/4)\n",
    "    mag.append(M/4)\n",
    "    return mag\n",
    "    \n",
    "   # if lamb < 1:\n",
    "   #     return counts['0001']\n",
    "   # return counts['0000']/shots # it does not always works, sometimes it returns keyword error \n",
    "                                # maybe we can add another else for the possibility of other states, but \n",
    "                                # do not use it for plotting - Bruna\n",
    "\n",
    "\n",
    "print(ground_state(lambd, 'qasm_simulator'))\n",
    "#print(ground_state(.8,'statevector_simulator'))"
   ]
  },
  {
   "cell_type": "code",
   "execution_count": 2,
   "metadata": {},
   "outputs": [
    {
     "name": "stdout",
     "output_type": "stream",
     "text": [
      "Job Status: job has successfully run\n",
      "Job Status: job has successfully run\n",
      "Job Status: job has successfully run\n",
      "Job Status: job has successfully run\n",
      "Job Status: job has successfully run\n",
      "Job Status: job has successfully run\n",
      "Job Status: job has successfully run\n",
      "Job Status: job has successfully run\n",
      "Job Status: job has successfully run\n",
      "Job Status: job has successfully run\n",
      "Job Status: job has successfully run\n",
      "Job Status: job has successfully run\n",
      "Job Status: job has successfully run\n",
      "Job Status: job has successfully run\n",
      "Job Status: job has successfully run\n",
      "Job Status: job has successfully run\n",
      "[[0.0947265625], [0.1435546875], [0.1923828125], [0.21484375], [0.25390625], [0.2666015625], [0.341796875], [0.310546875], [0.859375], [0.849609375], [0.9052734375], [0.9013671875], [0.9169921875], [0.9326171875], [0.9248046875], [0.9287109375]]\n"
     ]
    }
   ],
   "source": [
    "lmbd = np.arange(.2, 1.75, 0.1)\n",
    "sigmaz = []\n",
    "for l in lmbd:\n",
    "    sigmaz.append(ground_state(l, 'qasm_simulator'))\n",
    "    \n",
    "print(sigmaz)"
   ]
  },
  {
   "cell_type": "code",
   "execution_count": 3,
   "metadata": {},
   "outputs": [
    {
     "data": {
      "text/plain": [
       "(0.0, 1.8)"
      ]
     },
     "execution_count": 3,
     "metadata": {},
     "output_type": "execute_result"
    },
    {
     "data": {
      "image/png": "[encoded data removed]",
      "text/plain": [
       "<Figure size 640x480 with 1 Axes>"
      ]
     },
     "metadata": {},
     "output_type": "display_data"
    }
   ],
   "source": [
    "\n",
    "plt.plot(lmbd, sigmaz,'bo')\n",
    "plt.ylabel(\"$\\sigma_z$\")\n",
    "plt.xlabel(\"$\\lambda$\")\n",
    "plt.ylim(0., 1.1)\n",
    "plt.xlim(0., 1.8)"
   ]
  },
  {
   "cell_type": "code",
   "execution_count": 4,
   "metadata": {},
   "outputs": [
    {
     "name": "stdout",
     "output_type": "stream",
     "text": [
      "Job Status: job has successfully run\n"
     ]
    },
    {
     "data": {
      "image/png": "[encoded data removed]",
      "text/plain": [
       "<Figure size 700x500 with 1 Axes>"
      ]
     },
     "execution_count": 4,
     "metadata": {},
     "output_type": "execute_result"
    }
   ],
   "source": [
    "#Start up and initialize circuit\n",
    "#Measurement\n",
    "qc = QuantumCircuit(4, 4)\n",
    "    #Set correct ground state if lambda < 1\n",
    "if lambd < 1:\n",
    "    qc.x(3)\n",
    "    qc.barrier()\n",
    "\n",
    "    #Apply disentangling gates\n",
    "qc = bog(qc, 0, 1, thetak(1.,1.2))\n",
    "qc = fourier(qc, 0, 1, 2*np.pi/n)\n",
    "qc = fourier(qc, 2, 3, 0.)\n",
    "qc = fourier(qc, 0, 1, 0.)\n",
    "qc = fourier(qc, 2, 3, 0.)\n",
    "    #Set measurement step\n",
    "for i in range(0,4):\n",
    "    qc.measure(i,i)\n",
    "    \n",
    "\n",
    "    \n",
    "# Using a fake backend provided with qiskit\n",
    "\n",
    "backend = FakeManilaV2()\n",
    "# Transipling essentially converts the circuit into a something that can run on the specific hardware specified\n",
    "transpiled_circuit = transpile(qc, backend)\n",
    "job = backend.run(transpiled_circuit)\n",
    "counts = job.result().get_counts()\n",
    "\n",
    "shots = 1024\n",
    "max_credits = 10 #Max number of credits to spend on execution\n",
    "job = execute(qc, backend=backend, shots=shots, max_credits=max_credits)  \n",
    "job_monitor(job)\n",
    "result = job.result()\n",
    "counts = result.get_counts(qc)\n",
    "#print(counts['0000'])\n",
    "plot_histogram(counts)\n",
    "\n",
    "# had to comment this part because qc is a local variable in groundstate function now - Bruna"
   ]
  },
  {
   "cell_type": "code",
   "execution_count": 5,
   "metadata": {},
   "outputs": [
    {
     "name": "stdout",
     "output_type": "stream",
     "text": [
      "|0000> probability should be:  0.8841106397986879\n",
      "|0011> probability should be:  0.11588936020131207\n"
     ]
    }
   ],
   "source": [
    "phi = np.arccos(lambd/np.sqrt(1+lambd**2))/2\n",
    "#print(result.get_statevector(qc))\n",
    "print(\"|0000> probability should be: \",np.cos(phi)**2)\n",
    "print(\"|0011> probability should be: \",np.sin(phi)**2 )"
   ]
  },
  {
   "cell_type": "code",
   "execution_count": null,
   "metadata": {},
   "outputs": [],
   "source": []
  }
 ],
 "metadata": {
  "kernelspec": {
   "display_name": "Python 3 (ipykernel)",
   "language": "python",
   "name": "python3"
  },
  "language_info": {
   "codemirror_mode": {
    "name": "ipython",
    "version": 3
   },
   "file_extension": ".py",
   "mimetype": "text/x-python",
   "name": "python",
   "nbconvert_exporter": "python",
   "pygments_lexer": "ipython3",
   "version": "3.9.13"
  }
 },
 "nbformat": 4,
 "nbformat_minor": 4
}
