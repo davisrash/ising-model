{
 "cells": [
  {
   "cell_type": "code",
   "execution_count": 1,
   "metadata": {},
   "outputs": [],
   "source": [
    "from typing import Final\n",
    "\n",
    "import matplotlib.pyplot as plt\n",
    "import numpy as np\n",
    "\n",
    "from qiskit import QuantumCircuit, execute\n",
    "from qiskit.circuit import Qubit\n",
    "from qiskit.providers import Backend\n",
    "from qiskit.tools.monitor import job_monitor"
   ]
  },
  {
   "cell_type": "code",
   "execution_count": 2,
   "metadata": {},
   "outputs": [],
   "source": [
    "plt.rcParams[\"text.usetex\"] = True\n",
    "plt.rcParams[\"font.size\"] = \"12\""
   ]
  },
  {
   "cell_type": "code",
   "execution_count": 3,
   "metadata": {},
   "outputs": [],
   "source": [
    "NUM_SITES: Final[int] = 8"
   ]
  },
  {
   "cell_type": "code",
   "execution_count": 4,
   "metadata": {},
   "outputs": [],
   "source": [
    "def digital_sum(n: int) -> int:\n",
    "    \"\"\"Sum the digits of a number.\n",
    "\n",
    "    Args:\n",
    "        n (int): Number to sum the digits of\n",
    "\n",
    "    Returns:\n",
    "        int: Sum of digits in number\n",
    "    \"\"\"\n",
    "    return sum([int(i) for i in str(n)])"
   ]
  },
  {
   "cell_type": "code",
   "execution_count": 5,
   "metadata": {},
   "outputs": [],
   "source": [
    "# Bogoliubov transformation\n",
    "\n",
    "\n",
    "def thetak(k: int, lambda_: float) -> float:\n",
    "    \"\"\"Calculate a theta_k given k and lambda.\n",
    "\n",
    "    Args:\n",
    "        k (int): k value\n",
    "        lambda_ (float): lambda value\n",
    "\n",
    "    Returns:\n",
    "        float: value of theta\n",
    "    \"\"\"\n",
    "    angle = 2 * np.pi * k / NUM_SITES\n",
    "    x = np.cos(angle)\n",
    "    y = np.sin(angle)\n",
    "\n",
    "    return np.arccos(-(lambda_ - x) / np.sqrt((lambda_ - x) ** 2 + y**2))\n",
    "\n",
    "\n",
    "def bogo(qc: QuantumCircuit, qubits: list[Qubit], theta: float) -> None:\n",
    "    \"\"\"Apply the Bogoliubov gate to a quantum circuit.\n",
    "\n",
    "    Args:\n",
    "        qc (QuantumCircuit): Qiskit Quantum Circuit. This circuit will be modified in place.\n",
    "        qubits (list[Qubit]): List of Qubits to apply the circuits to. Often obtained with circuit.qubits\n",
    "        theta (float): Angle to rotate in the X-axis by the controlled RX gate\n",
    "    \"\"\"\n",
    "    qc.x(qubits[1])\n",
    "    qc.cx(qubits[1], qubits[0])\n",
    "    qc.crx(theta, qubits[0], qubits[1])\n",
    "    qc.cx(qubits[1], qubits[0])\n",
    "    qc.x(qubits[1])"
   ]
  },
  {
   "cell_type": "code",
   "execution_count": 6,
   "metadata": {},
   "outputs": [],
   "source": [
    "def disentangle(qc: QuantumCircuit, lambda_: float) -> None:\n",
    "    \"\"\"Apply the disentaglement gates to the quantum circuit.\n",
    "\n",
    "    Args:\n",
    "        qc (QuantumCircuit): Qiskit quantum circuit. This circuit will be modified in place.\n",
    "        lambda_ (float): lambda value\n",
    "    \"\"\"\n",
    "    from module.fswap import FSwapGate\n",
    "    from module.ffft import FFFTGate\n",
    "\n",
    "    # qc.append(FSwapGate(), [0, 1])\n",
    "    # qc.append(FSwapGate(), [1, 2])\n",
    "\n",
    "    # bogo(qc, qc.qubits[0:2], thetak(0, lambda_))\n",
    "    bogo(qc, qc.qubits[2:4], thetak(2, lambda_))\n",
    "    bogo(qc, qc.qubits[4:6], thetak(1, lambda_))\n",
    "    bogo(qc, qc.qubits[6:8], thetak(3, lambda_))\n",
    "\n",
    "    qc.append(FSwapGate(), [1, 2])\n",
    "    qc.append(FFFTGate(0), [0, 1])\n",
    "    qc.append(FFFTGate(0), [2, 3])\n",
    "    qc.append(FSwapGate(), [1, 2])\n",
    "    qc.append(FFFTGate(0), [0, 1])\n",
    "    qc.append(FFFTGate(2), [2, 3])\n",
    "    qc.append(FSwapGate(), [1, 2])\n",
    "\n",
    "    qc.append(FSwapGate(), [5, 6])\n",
    "    qc.append(FFFTGate(0), [4, 5])\n",
    "    qc.append(FFFTGate(0), [6, 7])\n",
    "    qc.append(FSwapGate(), [5, 6])\n",
    "    qc.append(FFFTGate(0), [4, 5])\n",
    "    qc.append(FFFTGate(2), [6, 7])\n",
    "    qc.append(FSwapGate(), [5, 6])\n",
    "\n",
    "    qc.append(FSwapGate(), [3, 4])\n",
    "    qc.append(FSwapGate(), [2, 3])\n",
    "    qc.append(FSwapGate(), [4, 5])\n",
    "    qc.append(FSwapGate(), [1, 2])\n",
    "    qc.append(FSwapGate(), [3, 4])\n",
    "    qc.append(FSwapGate(), [5, 6])\n",
    "\n",
    "    qc.append(FFFTGate(0), [0, 1])\n",
    "    qc.append(FFFTGate(1), [2, 3])\n",
    "    qc.append(FFFTGate(2), [4, 5])\n",
    "    qc.append(FFFTGate(3), [6, 7])\n",
    "\n",
    "    qc.append(FSwapGate(), [1, 2])\n",
    "    qc.append(FSwapGate(), [3, 4])\n",
    "    qc.append(FSwapGate(), [5, 6])\n",
    "    qc.append(FSwapGate(), [2, 3])\n",
    "    qc.append(FSwapGate(), [4, 5])\n",
    "    qc.append(FSwapGate(), [3, 4])"
   ]
  },
  {
   "cell_type": "code",
   "execution_count": 7,
   "metadata": {},
   "outputs": [],
   "source": [
    "def expected_magnetization(\n",
    "    lambda_: float, backend: Backend, shots: int = 1024\n",
    ") -> float:\n",
    "    \"\"\"Execute the passed in circuit as a job and return the expected magnetization.\n",
    "\n",
    "    Args:\n",
    "        lambda_ (float): lambda value\n",
    "        backend (Backend): backend to run the job against\n",
    "        shots (int): number of shots to run the job [Default: 1024]\n",
    "\n",
    "    Return:\n",
    "        float: magnetization result from job\n",
    "    \"\"\"\n",
    "    qc = QuantumCircuit(NUM_SITES)\n",
    "\n",
    "    # Set correct ground state for lambda < 1\n",
    "    if lambda_ < 1:\n",
    "        qc.x(NUM_SITES - 1)\n",
    "\n",
    "    disentangle(qc, lambda_)\n",
    "    qc.measure_all()\n",
    "\n",
    "    job = execute(qc, backend=backend, shots=shots)\n",
    "    job_monitor(job)\n",
    "\n",
    "    counts = job.result().get_counts()\n",
    "\n",
    "    c1 = list(counts.keys())\n",
    "    c2 = list(counts.values())\n",
    "\n",
    "    return sum([(1 - digital_sum(c1[j]) / 2) * c2[j] / shots for j in range(len(c1))])"
   ]
  },
  {
   "cell_type": "code",
   "execution_count": 8,
   "metadata": {},
   "outputs": [
    {
     "data": {
      "text/plain": [
       "[<IBMBackend('simulator_mps')>,\n",
       " <IBMBackend('simulator_statevector')>,\n",
       " <IBMBackend('simulator_stabilizer')>,\n",
       " <IBMBackend('ibm_brisbane')>,\n",
       " <IBMBackend('ibm_kyoto')>,\n",
       " <IBMBackend('ibm_osaka')>,\n",
       " <IBMBackend('ibmq_qasm_simulator')>,\n",
       " <IBMBackend('simulator_extended_stabilizer')>]"
      ]
     },
     "execution_count": 8,
     "metadata": {},
     "output_type": "execute_result"
    }
   ],
   "source": [
    "from qiskit_ibm_provider import IBMProvider\n",
    "\n",
    "provider = IBMProvider()\n",
    "provider.backends()"
   ]
  },
  {
   "cell_type": "code",
   "execution_count": 9,
   "metadata": {},
   "outputs": [],
   "source": [
    "backend = provider.get_backend(\"ibmq_qasm_simulator\")"
   ]
  },
  {
   "cell_type": "code",
   "execution_count": 14,
   "metadata": {},
   "outputs": [
    {
     "name": "stdout",
     "output_type": "stream",
     "text": [
      "Job Status: job has successfully run\n",
      "Job Status: job has successfully run\n",
      "Job Status: job has successfully run\n",
      "Job Status: job has successfully run\n",
      "Job Status: job has successfully run\n",
      "Job Status: job has successfully run\n",
      "Job Status: job has successfully run\n",
      "Job Status: job has successfully run\n",
      "Job Status: job has successfully run\n",
      "Job Status: job has successfully run\n"
     ]
    }
   ],
   "source": [
    "def exact(lambda_: float) -> float:\n",
    "    magnetization = lambda_ / (2 * np.sqrt(1 + lambda_**2))\n",
    "    if lambda_ < 1:\n",
    "        return magnetization\n",
    "    if lambda_ > 1:\n",
    "        return magnetization + 0.5\n",
    "    return np.nan\n",
    "\n",
    "\n",
    "vexact = np.vectorize(exact)\n",
    "\n",
    "lambdas = np.linspace(0, 1.8, 10)\n",
    "more_lambdas = np.linspace(0, 1.8, 301)\n",
    "\n",
    "# TODO: fix this (negative / 2)\n",
    "magnetization = [-expected_magnetization(l, backend)/2 for l in lambdas]"
   ]
  },
  {
   "cell_type": "code",
   "execution_count": 16,
   "metadata": {},
   "outputs": [
    {
     "data": {
      "text/plain": [
       "<matplotlib.legend.Legend at 0x18a972ac650>"
      ]
     },
     "execution_count": 16,
     "metadata": {},
     "output_type": "execute_result"
    },
    {
     "data": {
      "image/png": "[encoded data removed]",
      "text/plain": [
       "<Figure size 640x480 with 1 Axes>"
      ]
     },
     "metadata": {},
     "output_type": "display_data"
    }
   ],
   "source": [
    "# Plot the magnetization values for the range of lambdas\n",
    "fix, ax = plt.subplots()\n",
    "\n",
    "ax.plot(more_lambdas, vexact(more_lambdas), color=\"black\", label=\"exact\")\n",
    "ax.plot(lambdas, magnetization, marker=\"o\", label=backend.name)\n",
    "\n",
    "ax.set_xlabel(r\"$\\lambda$\")\n",
    "ax.set_ylabel(r\"$\\langle \\sigma_{z} \\rangle$\")\n",
    "\n",
    "ax.set_xlim(min(lambdas) - 0.1, max(lambdas) + 0.1)\n",
    "ax.set_ylim(-0.05, 1)\n",
    "\n",
    "ax.legend()"
   ]
  },
  {
   "cell_type": "code",
   "execution_count": null,
   "metadata": {},
   "outputs": [],
   "source": [
    "def time_evolution(\n",
    "    time: float, lambda_: float, backend: Backend, shots: int = 1024\n",
    ") -> float:\n",
    "    \"\"\"Perform time evolution of the Ising Model.\n",
    "\n",
    "    Args:\n",
    "        time (float): time value to evolve over\n",
    "        lambda_ (float): lambda value\n",
    "        backend (Backend): name of the backend to run on\n",
    "        shots (int): Number of shots to run the job [Default: 1024]\n",
    "\n",
    "    Return:\n",
    "        float: magnetization result\n",
    "    \"\"\"\n",
    "    qc = QuantumCircuit(NUM_SITES)\n",
    "\n",
    "    qc.u(\n",
    "        np.arccos(lambda_ / np.sqrt(1 + lambda_**2)),\n",
    "        np.pi / 2 + 4 * time * np.sqrt(1 + lambda_**2),\n",
    "        0,\n",
    "        0,\n",
    "    )\n",
    "    qc.cx(0, 1)\n",
    "\n",
    "    disentangle(qc, lambda_)\n",
    "    qc.measure_all()\n",
    "\n",
    "    qc.draw(output=\"mpl\")\n",
    "\n",
    "    job = execute(qc, backend=backend, shots=shots)\n",
    "    job_monitor(job)\n",
    "\n",
    "    counts = job.result().get_counts()\n",
    "\n",
    "    c1 = list(counts.keys())\n",
    "    c2 = list(counts.values())\n",
    "\n",
    "    return sum([(1 - digital_sum(c1[j]) / 2) * c2[j] / shots for j in range(len(c1))])"
   ]
  },
  {
   "cell_type": "code",
   "execution_count": null,
   "metadata": {},
   "outputs": [],
   "source": [
    "def exact_time(time: float, lambda_: float) -> float:\n",
    "    return (1 + 2 * lambda_**2 + np.cos(4 * time * np.sqrt(1 + lambda_**2))) / (\n",
    "        2 + 2 * lambda_**2\n",
    "    )\n",
    "\n",
    "\n",
    "vexact_time = np.vectorize(exact_time)\n",
    "\n",
    "times = np.linspace(0, 2, 9)\n",
    "more_times = np.linspace(0, 2, 301)\n",
    "lambdas = [0.5, 0.9, 1.8]\n",
    "\n",
    "magnetization_time = [[time_evolution(t, l, backend) for t in times] for l in lambdas]"
   ]
  },
  {
   "cell_type": "code",
   "execution_count": null,
   "metadata": {},
   "outputs": [],
   "source": [
    "fig, ax = plt.subplots()\n",
    "\n",
    "cmap = plt.get_cmap(\"tab10\")\n",
    "\n",
    "for idl, l in enumerate(lambdas):\n",
    "    ax.plot(\n",
    "        more_times,\n",
    "        vexact_time(more_times, l),\n",
    "        color=cmap(idl),\n",
    "        label=\"exact\" if idl == 0 else None,\n",
    "    )\n",
    "    ax.plot(\n",
    "        times,\n",
    "        magnetization_time[idl],\n",
    "        linestyle=\"--\",\n",
    "        marker=\"o\",\n",
    "        label=r\"$\\lambda = \" + str(l) + \"$\",\n",
    "    )\n",
    "\n",
    "ax.set_xlabel(\"time\")\n",
    "ax.set_ylabel(r\"$\\langle \\sigma_{z} \\rangle$\")\n",
    "\n",
    "ax.set_xlim(min(times) - 0.1, max(times) + 0.1)\n",
    "ax.set_ylim(0.1, 1.1)\n",
    "\n",
    "ax.legend()"
   ]
  },
  {
   "cell_type": "code",
   "execution_count": null,
   "metadata": {},
   "outputs": [],
   "source": [
    "fig, ax = plt.subplots(nrows=1, ncols=3, figsize=(15, 3))\n",
    "\n",
    "cmap = plt.get_cmap(\"tab10\")\n",
    "\n",
    "for idl, l in enumerate(lambdas):\n",
    "    ax[idl].plot(\n",
    "        more_times,\n",
    "        vexact_time(more_times, l),\n",
    "        color=cmap(idl),\n",
    "    )\n",
    "    ax[idl].plot(\n",
    "        times, magnetization_time[idl], color=cmap(idl), linestyle=\"--\", marker=\"o\"\n",
    "    )\n",
    "\n",
    "    ax[idl].set_title(r\"$\\lambda = \" + str(l) + \"$\")\n",
    "\n",
    "    ax[idl].set_xlabel(\"time\")\n",
    "    ax[idl].set_ylabel(r\"$\\langle \\sigma_{z} \\rangle$\")\n",
    "\n",
    "    ax[idl].set_xlim(min(times) - 0.1, max(times) + 0.1)\n",
    "    ax[idl].set_ylim(\n",
    "        0.1 if idl == 0 else 0.3 if idl == 1 else 0.75, 1.1 if idl != 2 else 1.05\n",
    "    )"
   ]
  },
  {
   "cell_type": "code",
   "execution_count": 17,
   "metadata": {},
   "outputs": [
    {
     "data": {
      "text/html": [
       "<h3>Version Information</h3><table><tr><th>Software</th><th>Version</th></tr><tr><td><code>qiskit</code></td><td>0.45.0</td></tr><tr><td><code>qiskit_ibm_provider</code></td><td>0.7.2</td></tr><tr><th colspan='2'>System information</th></tr><tr><td>Python version</td><td>3.11.6</td></tr><tr><td>Python compiler</td><td>MSC v.1935 64 bit (AMD64)</td></tr><tr><td>Python build</td><td>tags/v3.11.6:8b6ee5b, Oct  2 2023 14:57:12</td></tr><tr><td>OS</td><td>Windows</td></tr><tr><td>CPUs</td><td>4</td></tr><tr><td>Memory (Gb)</td><td>15.64801025390625</td></tr><tr><td colspan='2'>Sun Dec 03 00:40:12 2023 Mountain Standard Time</td></tr></table>"
      ],
      "text/plain": [
       "<IPython.core.display.HTML object>"
      ]
     },
     "metadata": {},
     "output_type": "display_data"
    }
   ],
   "source": [
    "import qiskit.tools.jupyter\n",
    "\n",
    "%qiskit_version_table"
   ]
  }
 ],
 "metadata": {
  "kernelspec": {
   "display_name": "Python 3 (ipykernel)",
   "language": "python",
   "name": "python3"
  },
  "language_info": {
   "codemirror_mode": {
    "name": "ipython",
    "version": 3
   },
   "file_extension": ".py",
   "mimetype": "text/x-python",
   "name": "python",
   "nbconvert_exporter": "python",
   "pygments_lexer": "ipython3",
   "version": "3.11.6"
  }
 },
 "nbformat": 4,
 "nbformat_minor": 4
}
